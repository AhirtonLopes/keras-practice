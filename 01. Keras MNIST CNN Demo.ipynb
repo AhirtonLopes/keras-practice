{
 "cells": [
  {
   "cell_type": "code",
   "execution_count": 1,
   "metadata": {},
   "outputs": [
    {
     "data": {
      "text/plain": [
       "datetime.date(2017, 12, 26)"
      ]
     },
     "execution_count": 1,
     "metadata": {},
     "output_type": "execute_result"
    }
   ],
   "source": [
    "from datetime import date\n",
    "date.today()"
   ]
  },
  {
   "cell_type": "code",
   "execution_count": 2,
   "metadata": {},
   "outputs": [
    {
     "name": "stdout",
     "output_type": "stream",
     "text": [
      "NirantK. https://github.com/NirantK/keras-practice\n"
     ]
    }
   ],
   "source": [
    "author = \"NirantK. https://github.com/NirantK/keras-practice\"\n",
    "print(author)"
   ]
  },
  {
   "cell_type": "code",
   "execution_count": 3,
   "metadata": {
    "collapsed": true
   },
   "outputs": [],
   "source": [
    "import numpy as np\n",
    "import pandas as pd\n",
    "%matplotlib inline\n",
    "import matplotlib.pyplot as plt"
   ]
  },
  {
   "cell_type": "code",
   "execution_count": 4,
   "metadata": {},
   "outputs": [
    {
     "name": "stderr",
     "output_type": "stream",
     "text": [
      "Using TensorFlow backend.\n"
     ]
    },
    {
     "name": "stdout",
     "output_type": "stream",
     "text": [
      "2.0.8\n"
     ]
    }
   ],
   "source": [
    "import keras\n",
    "print(keras.__version__)"
   ]
  },
  {
   "cell_type": "code",
   "execution_count": 5,
   "metadata": {},
   "outputs": [],
   "source": [
    "import os\n",
    "if os.name=='nt':\n",
    "    print('We are on Windows')"
   ]
  },
  {
   "cell_type": "markdown",
   "metadata": {},
   "source": [
    "Prerequisites: \n",
    "- Python programming experience\n",
    "- Familiarity with machine learning vocabulary\n",
    "   * Refer [Ailyen Blog](http://blog.aylien.com/10-machine-learning-terms-explained-in-simple/) - 5 minutes read or [Google's Machine Learning Glossary](https://developers.google.com/machine-learning/glossary/) when you see/hear new terms\n",
    "    \n",
    "Nice to have (will build upon these topics)\n",
    "- Familiarity with deep feed forward networks\n",
    "- Understand backpropagation \n",
    "- Familiarity with activation functions like relu, tanh, softmax, hierarchical softmax"
   ]
  },
  {
   "cell_type": "markdown",
   "metadata": {},
   "source": [
    "**We will start with an introduction to the theory behind convnets, specifically:**\n",
    "\n",
    "- What is convolution and max-pooling?   \n",
    "- What are convnets?\n",
    "- What do convnets learn?\n",
    "\n",
    "Then we will cover image classification with **small datasets**:\n",
    "\n",
    "- Training your own small convnets from scratch\n",
    "- Using data augmentation to mitigate overfitting\n",
    "- Using a pre-trained convnet to do feature extraction\n",
    "- Fine-tuning a pre-trained convnet"
   ]
  },
  {
   "cell_type": "markdown",
   "metadata": {},
   "source": [
    "Motivation\n",
    "---\n",
    "We will use our convnet to classify **MNIST digits**"
   ]
  },
  {
   "cell_type": "markdown",
   "metadata": {},
   "source": [
    "![](https://raw.githubusercontent.com/datapythonista/mnist/master/img/samples.png)"
   ]
  },
  {
   "cell_type": "markdown",
   "metadata": {},
   "source": [
    "## In this notebook: \n",
    "- MNIST Demo\n",
    "    - Using Convolution Layers\n",
    "- Code Overview\n",
    "\n",
    "### In next notebook:\n",
    "- What is convolution and maxpooling? \n",
    "- What are convnets? \n",
    "- What do convnets learn? "
   ]
  },
  {
   "cell_type": "markdown",
   "metadata": {},
   "source": [
    "![](https://www.tensorflow.org/images/MNIST-Matrix.png)"
   ]
  },
  {
   "cell_type": "markdown",
   "metadata": {},
   "source": [
    "MNIST is a very popular dataset in computer vision community as a proof of concept. \n",
    "\n",
    "    *If it does not work on MNIST, it will not work. If it works on MNSIT, it might work*\n",
    "    \n",
    "People have used this for lot of cool stuff including synthesizing digits. \n",
    "![](https://www.youtube.com/watch?v=LzE1fF0_3q0)"
   ]
  },
  {
   "cell_type": "code",
   "execution_count": 6,
   "metadata": {
    "scrolled": true
   },
   "outputs": [
    {
     "name": "stdout",
     "output_type": "stream",
     "text": [
      "People have used MNIST for lot of cool stuff including synthesizing digits. Here is a video from 2009:\n"
     ]
    },
    {
     "data": {
      "text/html": [
       "<iframe width=\"560\" height=\"315\" src=\"https://www.youtube.com/embed/LzE1fF0_3q0?rel=0\" frameborder=\"0\" gesture=\"media\" allow=\"encrypted-media\" allowfullscreen></iframe>"
      ],
      "text/plain": [
       "<IPython.core.display.HTML object>"
      ]
     },
     "execution_count": 6,
     "metadata": {},
     "output_type": "execute_result"
    }
   ],
   "source": [
    "print('People have used MNIST for lot of cool stuff including synthesizing digits. Here is a video from 2009:')\n",
    "from IPython.display import HTML\n",
    "HTML('<iframe width=\"560\" height=\"315\" src=\"https://www.youtube.com/embed/LzE1fF0_3q0?rel=0\" frameborder=\"0\" gesture=\"media\" allow=\"encrypted-media\" allowfullscreen></iframe>')"
   ]
  },
  {
   "cell_type": "markdown",
   "metadata": {},
   "source": [
    "# Let's start with CNN and Keras"
   ]
  },
  {
   "cell_type": "markdown",
   "metadata": {},
   "source": [
    "**Sample CNN schematic**:\n",
    "\n",
    "![](https://www.kernix.com/doc/data/cnn.png)\n"
   ]
  },
  {
   "cell_type": "code",
   "execution_count": 7,
   "metadata": {
    "collapsed": true
   },
   "outputs": [],
   "source": [
    "from keras import layers\n",
    "from keras import models\n",
    "\n",
    "model = models.Sequential()\n",
    "model.add(layers.Conv2D(32, (3, 3), activation='relu', input_shape=(28, 28, 1)))\n",
    "model.add(layers.MaxPooling2D((2, 2)))\n",
    "model.add(layers.Conv2D(64, (3, 3), activation='relu'))\n",
    "model.add(layers.MaxPooling2D((2, 2)))\n",
    "model.add(layers.Conv2D(64, (3, 3), activation='relu'))"
   ]
  },
  {
   "cell_type": "markdown",
   "metadata": {},
   "source": [
    "The 6 lines of code show you what a basic convnet looks like. It’s a stack of ```Conv2D``` and ```MaxPooling2D``` layers. \n",
    "\n",
    "**We’ll see in the next notebook what they do concretely**"
   ]
  },
  {
   "cell_type": "markdown",
   "metadata": {},
   "source": [
    "But to give you a brief overview:\n",
    "\n",
    "This is the [convolution](https://www.wikiwand.com/en/Convolution#/Visual_explanation) operation: \n",
    "     \n",
    "     Convolution is a mathematical operation on two functions (f and g) to produce a third function, that is typically viewed as a modified version of one of the original functions\n",
    "\n",
    "![](http://deeplearning.net/software/theano/_images/no_padding_no_strides.gif)\n",
    "\n",
    "![](http://deeplearning.net/software/theano/_images/numerical_no_padding_no_strides.gif)\n",
    "    \n"
   ]
  },
  {
   "cell_type": "code",
   "execution_count": 8,
   "metadata": {},
   "outputs": [
    {
     "name": "stdout",
     "output_type": "stream",
     "text": [
      "_________________________________________________________________\n",
      "Layer (type)                 Output Shape              Param #   \n",
      "=================================================================\n",
      "conv2d_1 (Conv2D)            (None, 26, 26, 32)        320       \n",
      "_________________________________________________________________\n",
      "max_pooling2d_1 (MaxPooling2 (None, 13, 13, 32)        0         \n",
      "_________________________________________________________________\n",
      "conv2d_2 (Conv2D)            (None, 11, 11, 64)        18496     \n",
      "_________________________________________________________________\n",
      "max_pooling2d_2 (MaxPooling2 (None, 5, 5, 64)          0         \n",
      "_________________________________________________________________\n",
      "conv2d_3 (Conv2D)            (None, 3, 3, 64)          36928     \n",
      "=================================================================\n",
      "Total params: 55,744\n",
      "Trainable params: 55,744\n",
      "Non-trainable params: 0\n",
      "_________________________________________________________________\n"
     ]
    }
   ],
   "source": [
    "model.summary()"
   ]
  },
  {
   "cell_type": "code",
   "execution_count": 9,
   "metadata": {
    "collapsed": true
   },
   "outputs": [],
   "source": [
    "# from keras.utils import plot_model\n",
    "# plot_model(model, to_file='model.png')"
   ]
  },
  {
   "cell_type": "markdown",
   "metadata": {},
   "source": [
    "The next step would be to feed our last output 3D matrix (of `shape (3, 3, 64)`) into a densely-connected classifier network like those you are already familiar with: *a stack of Dense layers*. \n",
    "\n",
    "These classifiers process vectors, which are 1D, whereas our current output is a 3D matrix. So first, we will have to flatten our 3D outputs to 1D, and then add a few Dense layers on top:"
   ]
  },
  {
   "cell_type": "markdown",
   "metadata": {},
   "source": [
    "**What are Dense Layers?**\n",
    "\n",
    "A dense layer is a kind of hidden layer where every node is connected to every other node in the next layer. A stack of dense layers acts as a classifier quite often in NN Arch Design. \n",
    "\n",
    "**Then, what is the hidden layer?**  \n",
    "\n",
    "These are intermediate layers between the input and the output layer. These could be of various types, For example, the convolutional layer in convnets is a hidden layer."
   ]
  },
  {
   "cell_type": "code",
   "execution_count": 10,
   "metadata": {
    "collapsed": true
   },
   "outputs": [],
   "source": [
    "model.add(layers.Flatten())\n",
    "\n",
    "model.add(layers.Dense(64, activation='relu'))\n",
    "model.add(layers.Dense(10, activation='softmax'))"
   ]
  },
  {
   "cell_type": "code",
   "execution_count": 11,
   "metadata": {},
   "outputs": [
    {
     "name": "stdout",
     "output_type": "stream",
     "text": [
      "_________________________________________________________________\n",
      "Layer (type)                 Output Shape              Param #   \n",
      "=================================================================\n",
      "conv2d_1 (Conv2D)            (None, 26, 26, 32)        320       \n",
      "_________________________________________________________________\n",
      "max_pooling2d_1 (MaxPooling2 (None, 13, 13, 32)        0         \n",
      "_________________________________________________________________\n",
      "conv2d_2 (Conv2D)            (None, 11, 11, 64)        18496     \n",
      "_________________________________________________________________\n",
      "max_pooling2d_2 (MaxPooling2 (None, 5, 5, 64)          0         \n",
      "_________________________________________________________________\n",
      "conv2d_3 (Conv2D)            (None, 3, 3, 64)          36928     \n",
      "_________________________________________________________________\n",
      "flatten_1 (Flatten)          (None, 576)               0         \n",
      "_________________________________________________________________\n",
      "dense_1 (Dense)              (None, 64)                36928     \n",
      "_________________________________________________________________\n",
      "dense_2 (Dense)              (None, 10)                650       \n",
      "=================================================================\n",
      "Total params: 93,322\n",
      "Trainable params: 93,322\n",
      "Non-trainable params: 0\n",
      "_________________________________________________________________\n"
     ]
    }
   ],
   "source": [
    "model.summary()"
   ]
  },
  {
   "cell_type": "code",
   "execution_count": 12,
   "metadata": {
    "scrolled": false
   },
   "outputs": [
    {
     "name": "stdout",
     "output_type": "stream",
     "text": [
      "Downloading data from https://s3.amazonaws.com/img-datasets/mnist.npz\n",
      "11476992/11490434 [============================>.] - ETA: 0sPreview train images:\n",
      "[[ 0.        ]\n",
      " [ 0.        ]\n",
      " [ 0.        ]\n",
      " [ 0.        ]\n",
      " [ 0.        ]\n",
      " [ 0.        ]\n",
      " [ 0.        ]\n",
      " [ 0.        ]\n",
      " [ 0.        ]\n",
      " [ 0.        ]\n",
      " [ 0.        ]\n",
      " [ 0.        ]\n",
      " [ 0.01176471]\n",
      " [ 0.07058824]\n",
      " [ 0.07058824]\n",
      " [ 0.07058824]\n",
      " [ 0.49411765]\n",
      " [ 0.53333336]\n",
      " [ 0.68627453]\n",
      " [ 0.10196079]\n",
      " [ 0.65098041]\n",
      " [ 1.        ]\n",
      " [ 0.96862745]\n",
      " [ 0.49803922]\n",
      " [ 0.        ]\n",
      " [ 0.        ]\n",
      " [ 0.        ]\n",
      " [ 0.        ]]\n",
      "\n",
      "------------------\n",
      "Before converting to categories: [5 0 4 ..., 5 6 8]\n",
      "\n",
      "------------------\n",
      "After converting to categories: [[ 0.  0.  0. ...,  0.  0.  0.]\n",
      " [ 1.  0.  0. ...,  0.  0.  0.]\n",
      " [ 0.  0.  0. ...,  0.  0.  0.]\n",
      " ..., \n",
      " [ 0.  0.  0. ...,  0.  0.  0.]\n",
      " [ 0.  0.  0. ...,  0.  0.  0.]\n",
      " [ 0.  0.  0. ...,  0.  1.  0.]]\n"
     ]
    }
   ],
   "source": [
    "# Preprocessing\n",
    "\n",
    "from keras.datasets import mnist\n",
    "from keras.utils import to_categorical\n",
    "\n",
    "(train_images, train_labels), (test_images, test_labels) = mnist.load_data()\n",
    "\n",
    "# Converts the image binary data into desired shapes on numpy.float32 matrices\n",
    "train_images = train_images.reshape((60000, 28, 28, 1))\n",
    "\n",
    "# Squash the data to 0 to 1 or -1 to 1 as per requirements\n",
    "train_images = train_images.astype('float32') / 255\n",
    "print('Preview train images:')\n",
    "print(train_images[0][5])\n",
    "\n",
    "print('\\n------------------\\nBefore converting to categories:', train_labels)\n",
    "# We convert this to categories instead of number labels\n",
    "# Conversion to categories means converting to binary matrices in our case (thanks Keras!)\n",
    "train_labels = to_categorical(train_labels)\n",
    "print('\\n------------------\\nAfter converting to categories:', train_labels)"
   ]
  },
  {
   "cell_type": "code",
   "execution_count": 13,
   "metadata": {
    "collapsed": true
   },
   "outputs": [],
   "source": [
    "# Repeating above process for the test images\n",
    "test_images = test_images.reshape((10000, 28, 28, 1))\n",
    "test_images = test_images.astype('float32') / 255\n",
    "\n",
    "test_labels = to_categorical(test_labels)"
   ]
  },
  {
   "cell_type": "markdown",
   "metadata": {},
   "source": [
    "To make our network ready for training, we need to pick three more things, as part of compilation step:\n",
    "---\n",
    "- Loss function: the is how the network will be able to measure how good a job it is doing on its training data, and thus how it will be able to steer itself in the right direction\n",
    "\n",
    "\n",
    "- Optimizer: this is the mechanism through which the network will update itself based on the data it sees and its loss function\n",
    "\n",
    "\n",
    "- Metrics: to monitor during training and testing. Here we will only care about accuracy (the fraction of the images that were correctly classified\n",
    "\n",
    "*from Deep Learning by Python by F. Chollet*"
   ]
  },
  {
   "cell_type": "code",
   "execution_count": 14,
   "metadata": {
    "collapsed": true
   },
   "outputs": [],
   "source": [
    "model.compile(optimizer='rmsprop',\n",
    "              loss='categorical_crossentropy',\n",
    "              metrics=['accuracy'])"
   ]
  },
  {
   "cell_type": "code",
   "execution_count": 15,
   "metadata": {},
   "outputs": [
    {
     "name": "stdout",
     "output_type": "stream",
     "text": [
      "Epoch 1/5\n",
      "60000/60000 [==============================] - 5s - loss: 0.1702 - acc: 0.9468     \n",
      "Epoch 2/5\n",
      "60000/60000 [==============================] - 3s - loss: 0.0472 - acc: 0.9852     \n",
      "Epoch 3/5\n",
      "60000/60000 [==============================] - 3s - loss: 0.0327 - acc: 0.9899     \n",
      "Epoch 4/5\n",
      "60000/60000 [==============================] - 3s - loss: 0.0244 - acc: 0.9924     \n",
      "Epoch 5/5\n",
      "60000/60000 [==============================] - 3s - loss: 0.0205 - acc: 0.9933     \n",
      "CPU times: user 22.1 s, sys: 2.79 s, total: 24.9 s\n",
      "Wall time: 17.7 s\n"
     ]
    }
   ],
   "source": [
    "%time history = model.fit(train_images, train_labels, epochs=5, batch_size=64)"
   ]
  },
  {
   "cell_type": "markdown",
   "metadata": {},
   "source": [
    "**Important: We have separate train, validate and test datasets!**\n",
    "\n",
    "Why not simply have two sets, a training set and a test set? We would train on the training data, and evaluate on the test data. Much simpler!\n",
    "\n",
    "The reason is that developing a model always involves tuning its configuration. You will do this tuning by using as feedback signal the performance of the model on the validation data. \n",
    "\n",
    "In essence this tuning is a form of learning: a search for a good configuration in some parameter space. \n",
    "\n",
    "As a result, tuning the configuration of the model based on its performance on the validation set can quickly result in overfitting to the validation set, even though your model is never being directly trained on it."
   ]
  },
  {
   "cell_type": "markdown",
   "metadata": {},
   "source": [
    "Note that the call to model.fit() returns a `History` object. This object has a member history, which is a dictionary containing data about everything that happened during training. Let’s take a look at it:"
   ]
  },
  {
   "cell_type": "code",
   "execution_count": 16,
   "metadata": {},
   "outputs": [
    {
     "data": {
      "text/plain": [
       "dict_keys(['acc', 'loss'])"
      ]
     },
     "execution_count": 16,
     "metadata": {},
     "output_type": "execute_result"
    }
   ],
   "source": [
    "history_dict = history.history\n",
    "history_dict.keys()"
   ]
  },
  {
   "cell_type": "code",
   "execution_count": 17,
   "metadata": {},
   "outputs": [
    {
     "data": {
      "image/png": "[encoded data removed]",
      "text/plain": [
       "<matplotlib.figure.Figure at 0x7f395c33d518>"
      ]
     },
     "metadata": {},
     "output_type": "display_data"
    }
   ],
   "source": [
    "import matplotlib.pyplot as plt\n",
    "\n",
    "acc = history.history['acc']\n",
    "# val_acc = history.history['val_acc']\n",
    "loss = history.history['loss']\n",
    "# val_loss = history.history['val_loss']\n",
    "\n",
    "epochs = range(1, len(acc) + 1)\n",
    "\n",
    "# \"bo\" is for \"blue dot\"\n",
    "# plt.plot(epochs, acc, label='Acc')\n",
    "plt.plot(epochs, loss,label='Training loss')\n",
    "# b is for \"solid blue line\"\n",
    "# plt.plot(epochs, val_loss, 'b', label='Validation loss')\n",
    "plt.title('Training and validation loss')\n",
    "plt.xlabel('Epochs')\n",
    "plt.ylabel('Loss')\n",
    "plt.legend()\n",
    "\n",
    "plt.show()"
   ]
  },
  {
   "cell_type": "code",
   "execution_count": 18,
   "metadata": {},
   "outputs": [
    {
     "data": {
      "image/png": "[encoded data removed]",
      "text/plain": [
       "<matplotlib.figure.Figure at 0x7f395c33d278>"
      ]
     },
     "metadata": {},
     "output_type": "display_data"
    }
   ],
   "source": [
    "import matplotlib.pyplot as plt\n",
    "\n",
    "acc = history.history['acc']\n",
    "# val_acc = history.history['val_acc']\n",
    "loss = history.history['loss']\n",
    "# val_loss = history.history['val_loss']\n",
    "\n",
    "epochs = range(1, len(acc) + 1)\n",
    "\n",
    "# \"bo\" is for \"blue dot\"\n",
    "plt.plot(epochs, acc, label='Acc')\n",
    "# plt.plot(epochs, loss,label='Training loss')\n",
    "# b is for \"solid blue line\"\n",
    "# plt.plot(epochs, val_loss, 'b', label='Validation loss')\n",
    "plt.title('Training and validation loss')\n",
    "plt.xlabel('Epochs')\n",
    "plt.ylabel('Loss')\n",
    "plt.legend()\n",
    "\n",
    "plt.show()"
   ]
  },
  {
   "cell_type": "markdown",
   "metadata": {},
   "source": [
    "## Model Performance"
   ]
  },
  {
   "cell_type": "code",
   "execution_count": 19,
   "metadata": {},
   "outputs": [
    {
     "name": "stdout",
     "output_type": "stream",
     "text": [
      " 9216/10000 [==========================>...] - ETA: 0sTest Accuracy: 0.991\n"
     ]
    }
   ],
   "source": [
    "test_loss, test_acc = model.evaluate(test_images, test_labels)\n",
    "print(\"Test Accuracy:\", test_acc)"
   ]
  },
  {
   "cell_type": "markdown",
   "metadata": {},
   "source": [
    "### In this notebook you saw: \n",
    "- MNIST Demo\n",
    "    - Convolution layers\n",
    "    - Brief intro what a network looks like\n",
    "- Code Overview\n",
    "    - Code outline in Keras\n",
    "\n",
    "#### In next notebook:\n",
    "- What is convolution and maxpooling? \n",
    "- What are convnets? \n",
    "- What do convnets learn? "
   ]
  }
 ],
 "metadata": {
  "kernelspec": {
   "display_name": "Python [default]",
   "language": "python",
   "name": "python3"
  },
  "language_info": {
   "codemirror_mode": {
    "name": "ipython",
    "version": 3
   },
   "file_extension": ".py",
   "mimetype": "text/x-python",
   "name": "python",
   "nbconvert_exporter": "python",
   "pygments_lexer": "ipython3",
   "version": "3.5.4"
  }
 },
 "nbformat": 4,
 "nbformat_minor": 2
}
