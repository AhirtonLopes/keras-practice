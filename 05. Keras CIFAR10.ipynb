{
 "cells": [
  {
   "cell_type": "code",
   "execution_count": 1,
   "metadata": {},
   "outputs": [
    {
     "data": {
      "text/plain": [
       "datetime.date(2017, 12, 10)"
      ]
     },
     "execution_count": 1,
     "metadata": {},
     "output_type": "execute_result"
    }
   ],
   "source": [
    "from datetime import date\n",
    "date.today()"
   ]
  },
  {
   "cell_type": "code",
   "execution_count": 2,
   "metadata": {},
   "outputs": [
    {
     "name": "stdout",
     "output_type": "stream",
     "text": [
      "NirantK. https://github.com/NirantK/keras-practice\n"
     ]
    }
   ],
   "source": [
    "author = \"NirantK. https://github.com/NirantK/keras-practice\"\n",
    "print(author)"
   ]
  },
  {
   "cell_type": "code",
   "execution_count": 3,
   "metadata": {
    "collapsed": true
   },
   "outputs": [],
   "source": [
    "import numpy as np\n",
    "import pandas as pd\n",
    "%matplotlib inline\n",
    "import matplotlib.pyplot as plt"
   ]
  },
  {
   "cell_type": "code",
   "execution_count": 4,
   "metadata": {},
   "outputs": [
    {
     "name": "stderr",
     "output_type": "stream",
     "text": [
      "Using TensorFlow backend.\n"
     ]
    }
   ],
   "source": [
    "import keras"
   ]
  },
  {
   "cell_type": "code",
   "execution_count": 5,
   "metadata": {},
   "outputs": [
    {
     "data": {
      "text/plain": [
       "'2.0.8'"
      ]
     },
     "execution_count": 5,
     "metadata": {},
     "output_type": "execute_result"
    }
   ],
   "source": [
    "keras.__version__"
   ]
  },
  {
   "cell_type": "code",
   "execution_count": 6,
   "metadata": {},
   "outputs": [
    {
     "name": "stdout",
     "output_type": "stream",
     "text": [
      "We are on Windows\n"
     ]
    }
   ],
   "source": [
    "import os\n",
    "if os.name=='nt':\n",
    "    print('We are on Windows')"
   ]
  },
  {
   "cell_type": "markdown",
   "metadata": {},
   "source": [
    "Prerequisites: \n",
    "- Python programming experience\n",
    "- Familiarity with machine learning vocabulary\n",
    "   * Refer [Ailyen Blog](http://blog.aylien.com/10-machine-learning-terms-explained-in-simple/) - 5 minutes read or [Google's Machine Learning Glossary](https://developers.google.com/machine-learning/glossary/) when you see/hear new terms\n",
    "    \n",
    "Nice to have (will build upon these topics)\n",
    "- Familiarity with deep feed forward networks\n",
    "- Understand backpropagation \n",
    "- Familiarity with activation functions like relu, tanh, softmax, hierarchical softmax"
   ]
  },
  {
   "cell_type": "markdown",
   "metadata": {},
   "source": [
    "**We will start with an introduction to the theory behind convnets, specifically:**\n",
    "\n",
    "- What is convolution and max-pooling?   \n",
    "- What are convnets?\n",
    "- What do convnets learn?\n",
    "\n",
    "Then we will cover image classification with **small datasets**:\n",
    "\n",
    "- Training your own small convnets from scratch\n",
    "- Using data augmentation to mitigate overfitting\n",
    "- Using a pre-trained convnet to do feature extraction\n",
    "- Fine-tuning a pre-trained convnet"
   ]
  },
  {
   "cell_type": "markdown",
   "metadata": {},
   "source": [
    "We will use our convnet to classify **MNIST digits**"
   ]
  },
  {
   "cell_type": "markdown",
   "metadata": {},
   "source": [
    "## In this notebook: \n",
    "- MNIST Demo\n",
    "    - Using Convolution Layers\n",
    "- Code Overview\n",
    "\n",
    "### In next notebook:\n",
    "- What is convolution and maxpooling? \n",
    "- What are convnets? \n",
    "- What do convnets learn? "
   ]
  },
  {
   "cell_type": "code",
   "execution_count": 7,
   "metadata": {},
   "outputs": [],
   "source": [
    "from keras import layers\n",
    "from keras import models\n",
    "\n",
    "model = models.Sequential()\n",
    "# Conv2D(32, (3, 3), padding='same',\n",
    "#                  input_shape=x_train.shape[1:])\n",
    "model.add(layers.Conv2D(32, (3, 3), activation='relu', input_shape=(32,32,3)))\n",
    "model.add(layers.MaxPooling2D((2, 2)))\n",
    "model.add(layers.Conv2D(64, (3, 3), activation='relu'))\n",
    "model.add(layers.MaxPooling2D((2, 2)))\n",
    "model.add(layers.Conv2D(64, (3, 3), activation='relu'))"
   ]
  },
  {
   "cell_type": "markdown",
   "metadata": {},
   "source": [
    "The 6 lines of code show you what a basic convnet looks like. It’s a stack of ```Conv2D``` and ```MaxPooling2D``` layers. \n",
    "\n",
    "**We’ll see in a minute what they do concretely**"
   ]
  },
  {
   "cell_type": "code",
   "execution_count": 8,
   "metadata": {},
   "outputs": [
    {
     "name": "stdout",
     "output_type": "stream",
     "text": [
      "_________________________________________________________________\n",
      "Layer (type)                 Output Shape              Param #   \n",
      "=================================================================\n",
      "conv2d_1 (Conv2D)            (None, 30, 30, 32)        896       \n",
      "_________________________________________________________________\n",
      "max_pooling2d_1 (MaxPooling2 (None, 15, 15, 32)        0         \n",
      "_________________________________________________________________\n",
      "conv2d_2 (Conv2D)            (None, 13, 13, 64)        18496     \n",
      "_________________________________________________________________\n",
      "max_pooling2d_2 (MaxPooling2 (None, 6, 6, 64)          0         \n",
      "_________________________________________________________________\n",
      "conv2d_3 (Conv2D)            (None, 4, 4, 64)          36928     \n",
      "=================================================================\n",
      "Total params: 56,320\n",
      "Trainable params: 56,320\n",
      "Non-trainable params: 0\n",
      "_________________________________________________________________\n"
     ]
    }
   ],
   "source": [
    "model.summary()"
   ]
  },
  {
   "cell_type": "markdown",
   "metadata": {},
   "source": [
    "The next step would be to feed our last output tensor (of shape (3, 3, 64)) into a densely-connected classifier network like those you are already familiar with: *a stack of Dense layers*. \n",
    "\n",
    "These classifiers process vectors, which are 1D, whereas our current output is a 3D tensor. So first, we will have to flatten our 3D outputs to 1D, and then add a few Dense layers on top:"
   ]
  },
  {
   "cell_type": "code",
   "execution_count": 9,
   "metadata": {
    "collapsed": true
   },
   "outputs": [],
   "source": [
    "model.add(layers.Flatten())\n",
    "model.add(layers.Dense(64, activation='relu'))\n",
    "model.add(layers.Dense(10, activation='softmax'))"
   ]
  },
  {
   "cell_type": "code",
   "execution_count": 10,
   "metadata": {},
   "outputs": [
    {
     "name": "stdout",
     "output_type": "stream",
     "text": [
      "_________________________________________________________________\n",
      "Layer (type)                 Output Shape              Param #   \n",
      "=================================================================\n",
      "conv2d_1 (Conv2D)            (None, 30, 30, 32)        896       \n",
      "_________________________________________________________________\n",
      "max_pooling2d_1 (MaxPooling2 (None, 15, 15, 32)        0         \n",
      "_________________________________________________________________\n",
      "conv2d_2 (Conv2D)            (None, 13, 13, 64)        18496     \n",
      "_________________________________________________________________\n",
      "max_pooling2d_2 (MaxPooling2 (None, 6, 6, 64)          0         \n",
      "_________________________________________________________________\n",
      "conv2d_3 (Conv2D)            (None, 4, 4, 64)          36928     \n",
      "_________________________________________________________________\n",
      "flatten_1 (Flatten)          (None, 1024)              0         \n",
      "_________________________________________________________________\n",
      "dense_1 (Dense)              (None, 64)                65600     \n",
      "_________________________________________________________________\n",
      "dense_2 (Dense)              (None, 10)                650       \n",
      "=================================================================\n",
      "Total params: 122,570\n",
      "Trainable params: 122,570\n",
      "Non-trainable params: 0\n",
      "_________________________________________________________________\n"
     ]
    }
   ],
   "source": [
    "model.summary()"
   ]
  },
  {
   "cell_type": "code",
   "execution_count": 11,
   "metadata": {
    "collapsed": true
   },
   "outputs": [],
   "source": [
    "num_classes = 10"
   ]
  },
  {
   "cell_type": "code",
   "execution_count": 15,
   "metadata": {
    "scrolled": false
   },
   "outputs": [
    {
     "name": "stdout",
     "output_type": "stream",
     "text": [
      "x_train shape: (50000, 32, 32, 3)\n",
      "50000 train samples\n",
      "10000 test samples\n"
     ]
    }
   ],
   "source": [
    "from keras.datasets import cifar10\n",
    "from keras.utils import to_categorical\n",
    "\n",
    "(train_images, train_labels), (test_images, test_labels) = cifar10.load_data()\n",
    "\n",
    "print('x_train shape:', train_images.shape)\n",
    "print(train_images.shape[0], 'train samples')\n",
    "print(test_images.shape[0], 'test samples')\n",
    "\n",
    "# train_images = train_images.reshape((60000, 28, 28, 1))\n",
    "train_images = train_images.astype('float32') / 255\n",
    "\n",
    "train_labels = to_categorical(train_labels)\n",
    "test_labels = to_categorical(test_labels)\n",
    "\n",
    "# test_images = test_images.reshape((10000, 28, 28, 1))\n",
    "test_images = test_images.astype('float32') / 255\n",
    "\n",
    "model.compile(optimizer='rmsprop',\n",
    "              loss='categorical_crossentropy',\n",
    "              metrics=['accuracy'])"
   ]
  },
  {
   "cell_type": "code",
   "execution_count": 25,
   "metadata": {},
   "outputs": [
    {
     "name": "stdout",
     "output_type": "stream",
     "text": [
      "Epoch 1/30\n",
      "50000/50000 [==============================] - 9s - loss: 1.0416 - acc: 0.6323     \n",
      "Epoch 2/30\n",
      "50000/50000 [==============================] - 8s - loss: 1.0094 - acc: 0.6457     \n",
      "Epoch 3/30\n",
      "50000/50000 [==============================] - 8s - loss: 0.9882 - acc: 0.6503     \n",
      "Epoch 4/30\n",
      "50000/50000 [==============================] - 8s - loss: 0.9634 - acc: 0.6583     \n",
      "Epoch 5/30\n",
      "50000/50000 [==============================] - 8s - loss: 0.9418 - acc: 0.6672     \n",
      "Epoch 6/30\n",
      "50000/50000 [==============================] - 8s - loss: 0.9234 - acc: 0.6761     \n",
      "Epoch 7/30\n",
      "50000/50000 [==============================] - 8s - loss: 0.9081 - acc: 0.6819     \n",
      "Epoch 8/30\n",
      "50000/50000 [==============================] - 8s - loss: 0.8896 - acc: 0.6882     \n",
      "Epoch 9/30\n",
      "50000/50000 [==============================] - 8s - loss: 0.8704 - acc: 0.6947     \n",
      "Epoch 10/30\n",
      "50000/50000 [==============================] - 8s - loss: 0.8578 - acc: 0.7002     \n",
      "Epoch 11/30\n",
      "50000/50000 [==============================] - 9s - loss: 0.8447 - acc: 0.7030     \n",
      "Epoch 12/30\n",
      "50000/50000 [==============================] - 9s - loss: 0.8329 - acc: 0.7088     \n",
      "Epoch 13/30\n",
      "50000/50000 [==============================] - 8s - loss: 0.8161 - acc: 0.7137     \n",
      "Epoch 14/30\n",
      "50000/50000 [==============================] - 8s - loss: 0.8016 - acc: 0.7194     \n",
      "Epoch 15/30\n",
      "50000/50000 [==============================] - 8s - loss: 0.7897 - acc: 0.7239     \n",
      "Epoch 16/30\n",
      "50000/50000 [==============================] - 8s - loss: 0.7821 - acc: 0.7239     \n",
      "Epoch 17/30\n",
      "50000/50000 [==============================] - 9s - loss: 0.7673 - acc: 0.7312     \n",
      "Epoch 18/30\n",
      "50000/50000 [==============================] - 8s - loss: 0.7526 - acc: 0.7374     \n",
      "Epoch 19/30\n",
      "50000/50000 [==============================] - 8s - loss: 0.7454 - acc: 0.7388     \n",
      "Epoch 20/30\n",
      "50000/50000 [==============================] - 9s - loss: 0.7361 - acc: 0.7424     \n",
      "Epoch 21/30\n",
      "50000/50000 [==============================] - 9s - loss: 0.7207 - acc: 0.7503     \n",
      "Epoch 22/30\n",
      "50000/50000 [==============================] - 9s - loss: 0.7140 - acc: 0.7505     \n",
      "Epoch 23/30\n",
      "50000/50000 [==============================] - 9s - loss: 0.7027 - acc: 0.7568     \n",
      "Epoch 24/30\n",
      "50000/50000 [==============================] - 9s - loss: 0.6966 - acc: 0.7595     \n",
      "Epoch 25/30\n",
      "50000/50000 [==============================] - 9s - loss: 0.6887 - acc: 0.7606     \n",
      "Epoch 26/30\n",
      "50000/50000 [==============================] - 9s - loss: 0.6778 - acc: 0.7646     \n",
      "Epoch 27/30\n",
      "50000/50000 [==============================] - 9s - loss: 0.6691 - acc: 0.7654     \n",
      "Epoch 28/30\n",
      "50000/50000 [==============================] - 9s - loss: 0.6612 - acc: 0.7696     \n",
      "Epoch 29/30\n",
      "50000/50000 [==============================] - 9s - loss: 0.6577 - acc: 0.7708     \n",
      "Epoch 30/30\n",
      "50000/50000 [==============================] - 9s - loss: 0.6465 - acc: 0.7764     \n",
      "Wall time: 4min 31s\n"
     ]
    }
   ],
   "source": [
    "%time history = model.fit(train_images, train_labels, epochs=30, batch_size=128)"
   ]
  },
  {
   "cell_type": "markdown",
   "metadata": {},
   "source": [
    "**Model Performance**"
   ]
  },
  {
   "cell_type": "code",
   "execution_count": 26,
   "metadata": {},
   "outputs": [
    {
     "name": "stdout",
     "output_type": "stream",
     "text": [
      " 9760/10000 [============================>.] - ETA: 0s"
     ]
    },
    {
     "data": {
      "text/plain": [
       "0.7641"
      ]
     },
     "execution_count": 26,
     "metadata": {},
     "output_type": "execute_result"
    }
   ],
   "source": [
    "test_loss, test_acc = model.evaluate(test_images, test_labels)\n",
    "test_acc"
   ]
  },
  {
   "cell_type": "code",
   "execution_count": 33,
   "metadata": {},
   "outputs": [
    {
     "data": {
      "image/png": "[encoded data removed]",
      "text/plain": [
       "<matplotlib.figure.Figure at 0x1b010058f28>"
      ]
     },
     "metadata": {},
     "output_type": "display_data"
    },
    {
     "data": {
      "image/png": "[encoded data removed]",
      "text/plain": [
       "<matplotlib.figure.Figure at 0x1b00ebd2eb8>"
      ]
     },
     "metadata": {},
     "output_type": "display_data"
    }
   ],
   "source": [
    "acc = history.history['acc']\n",
    "# val_acc = history.history['val_acc']\n",
    "loss = history.history['loss']\n",
    "# val_loss = history.history['val_loss']\n",
    "\n",
    "epochs = range(1, len(acc) + 1)\n",
    "\n",
    "plt.plot(epochs, acc, 'bo', label='Training acc')\n",
    "plt.plot(epochs, val_acc, 'b', label='Validation acc')\n",
    "plt.title('Training and validation accuracy')\n",
    "plt.legend()\n",
    "\n",
    "plt.figure()\n",
    "\n",
    "plt.plot(epochs, loss, 'bo', label='Training loss')\n",
    "plt.plot(epochs, val_loss, 'b', label='Validation loss')\n",
    "plt.title('Training and validation loss')\n",
    "plt.legend()\n",
    "\n",
    "plt.show()"
   ]
  },
  {
   "cell_type": "markdown",
   "metadata": {},
   "source": [
    "Let's try the model from the official documentation by Keras"
   ]
  },
  {
   "cell_type": "code",
   "execution_count": 28,
   "metadata": {
    "collapsed": true
   },
   "outputs": [],
   "source": [
    "from keras.preprocessing.image import ImageDataGenerator\n",
    "from keras.models import Sequential\n",
    "from keras.layers import Dense, Dropout, Activation, Flatten\n",
    "from keras.layers import Conv2D, MaxPooling2D"
   ]
  },
  {
   "cell_type": "code",
   "execution_count": 29,
   "metadata": {},
   "outputs": [
    {
     "name": "stdout",
     "output_type": "stream",
     "text": [
      "x_train shape: (50000, 32, 32, 3)\n",
      "50000 train samples\n",
      "10000 test samples\n",
      "Using real-time data augmentation.\n",
      "Epoch 1/50\n",
      "512/512 [==============================] - 6s - loss: 2.0670 - acc: 0.2294 - val_loss: 1.8342 - val_acc: 0.3515\n",
      "Epoch 2/50\n",
      "512/512 [==============================] - 5s - loss: 1.8086 - acc: 0.3423 - val_loss: 1.6644 - val_acc: 0.4023\n",
      "Epoch 3/50\n",
      "512/512 [==============================] - 5s - loss: 1.7038 - acc: 0.3774 - val_loss: 1.5337 - val_acc: 0.4447\n",
      "Epoch 4/50\n",
      "512/512 [==============================] - 5s - loss: 1.6059 - acc: 0.4102 - val_loss: 1.4768 - val_acc: 0.4589\n",
      "Epoch 5/50\n",
      "512/512 [==============================] - 5s - loss: 1.5636 - acc: 0.4288 - val_loss: 1.4191 - val_acc: 0.4940\n",
      "Epoch 6/50\n",
      "512/512 [==============================] - 5s - loss: 1.5168 - acc: 0.4479 - val_loss: 1.3786 - val_acc: 0.5005\n",
      "Epoch 7/50\n",
      "512/512 [==============================] - 5s - loss: 1.4799 - acc: 0.4615 - val_loss: 1.3317 - val_acc: 0.5236\n",
      "Epoch 8/50\n",
      "512/512 [==============================] - 6s - loss: 1.4476 - acc: 0.4750 - val_loss: 1.2942 - val_acc: 0.5337\n",
      "Epoch 9/50\n",
      "512/512 [==============================] - 5s - loss: 1.4157 - acc: 0.4883 - val_loss: 1.2643 - val_acc: 0.5513\n",
      "Epoch 10/50\n",
      "512/512 [==============================] - 5s - loss: 1.3937 - acc: 0.5004 - val_loss: 1.3273 - val_acc: 0.5236\n",
      "Epoch 11/50\n",
      "512/512 [==============================] - 5s - loss: 1.3591 - acc: 0.5096 - val_loss: 1.2037 - val_acc: 0.5721\n",
      "Epoch 12/50\n",
      "512/512 [==============================] - 5s - loss: 1.3208 - acc: 0.5284 - val_loss: 1.1769 - val_acc: 0.5809\n",
      "Epoch 13/50\n",
      "512/512 [==============================] - 6s - loss: 1.3043 - acc: 0.5373 - val_loss: 1.1616 - val_acc: 0.5864\n",
      "Epoch 14/50\n",
      "512/512 [==============================] - 5s - loss: 1.2791 - acc: 0.5419 - val_loss: 1.2602 - val_acc: 0.5525\n",
      "Epoch 15/50\n",
      "512/512 [==============================] - 5s - loss: 1.2760 - acc: 0.5449 - val_loss: 1.2292 - val_acc: 0.5610\n",
      "Epoch 16/50\n",
      "512/512 [==============================] - 6s - loss: 1.2389 - acc: 0.5546 - val_loss: 1.1414 - val_acc: 0.5949\n",
      "Epoch 17/50\n",
      "512/512 [==============================] - 6s - loss: 1.2191 - acc: 0.5693 - val_loss: 1.0846 - val_acc: 0.6147\n",
      "Epoch 18/50\n",
      "512/512 [==============================] - 6s - loss: 1.2245 - acc: 0.5648 - val_loss: 1.0739 - val_acc: 0.6238\n",
      "Epoch 19/50\n",
      "512/512 [==============================] - 6s - loss: 1.1788 - acc: 0.5825 - val_loss: 1.0288 - val_acc: 0.6415\n",
      "Epoch 20/50\n",
      "512/512 [==============================] - 6s - loss: 1.1687 - acc: 0.5793 - val_loss: 1.0195 - val_acc: 0.6431\n",
      "Epoch 21/50\n",
      "512/512 [==============================] - 6s - loss: 1.1595 - acc: 0.5913 - val_loss: 1.0105 - val_acc: 0.6477\n",
      "Epoch 22/50\n",
      "512/512 [==============================] - 6s - loss: 1.1561 - acc: 0.5880 - val_loss: 1.0563 - val_acc: 0.6222\n",
      "Epoch 23/50\n",
      "512/512 [==============================] - 6s - loss: 1.1154 - acc: 0.6076 - val_loss: 0.9817 - val_acc: 0.6555\n",
      "Epoch 24/50\n",
      "512/512 [==============================] - 6s - loss: 1.1110 - acc: 0.6102 - val_loss: 0.9754 - val_acc: 0.6586\n",
      "Epoch 25/50\n",
      "512/512 [==============================] - 6s - loss: 1.1147 - acc: 0.6085 - val_loss: 0.9635 - val_acc: 0.6621\n",
      "Epoch 26/50\n",
      "512/512 [==============================] - 6s - loss: 1.0793 - acc: 0.6194 - val_loss: 0.9370 - val_acc: 0.6720\n",
      "Epoch 27/50\n",
      "512/512 [==============================] - 6s - loss: 1.0759 - acc: 0.6212 - val_loss: 0.9268 - val_acc: 0.6779\n",
      "Epoch 28/50\n",
      "512/512 [==============================] - 6s - loss: 1.0650 - acc: 0.6232 - val_loss: 0.9482 - val_acc: 0.6713\n",
      "Epoch 29/50\n",
      "512/512 [==============================] - 6s - loss: 1.0496 - acc: 0.6296 - val_loss: 0.9104 - val_acc: 0.6861\n",
      "Epoch 30/50\n",
      "512/512 [==============================] - 7s - loss: 1.0523 - acc: 0.6304 - val_loss: 0.9145 - val_acc: 0.6818\n",
      "Epoch 31/50\n",
      "512/512 [==============================] - 6s - loss: 1.0431 - acc: 0.6316 - val_loss: 0.8963 - val_acc: 0.6885\n",
      "Epoch 32/50\n",
      "512/512 [==============================] - 6s - loss: 1.0189 - acc: 0.6412 - val_loss: 0.9254 - val_acc: 0.6851\n",
      "Epoch 33/50\n",
      "512/512 [==============================] - 6s - loss: 1.0105 - acc: 0.6483 - val_loss: 0.9048 - val_acc: 0.6871\n",
      "Epoch 34/50\n",
      "512/512 [==============================] - 6s - loss: 1.0049 - acc: 0.6472 - val_loss: 0.8739 - val_acc: 0.6957\n",
      "Epoch 35/50\n",
      "512/512 [==============================] - 6s - loss: 0.9916 - acc: 0.6558 - val_loss: 0.8617 - val_acc: 0.6996\n",
      "Epoch 36/50\n",
      "512/512 [==============================] - 6s - loss: 0.9879 - acc: 0.6500 - val_loss: 0.8824 - val_acc: 0.6976\n",
      "Epoch 37/50\n",
      "512/512 [==============================] - 7s - loss: 0.9777 - acc: 0.6555 - val_loss: 0.8609 - val_acc: 0.6976\n",
      "Epoch 38/50\n",
      "512/512 [==============================] - 8s - loss: 0.9760 - acc: 0.6580 - val_loss: 0.8337 - val_acc: 0.7078\n",
      "Epoch 39/50\n",
      "512/512 [==============================] - 8s - loss: 0.9602 - acc: 0.6655 - val_loss: 0.8484 - val_acc: 0.7040\n",
      "Epoch 40/50\n",
      "512/512 [==============================] - 8s - loss: 0.9549 - acc: 0.6639 - val_loss: 0.8412 - val_acc: 0.7046\n",
      "Epoch 41/50\n",
      "512/512 [==============================] - 7s - loss: 0.9573 - acc: 0.6710 - val_loss: 0.8253 - val_acc: 0.7134\n",
      "Epoch 42/50\n",
      "512/512 [==============================] - 7s - loss: 0.9487 - acc: 0.6655 - val_loss: 0.8463 - val_acc: 0.7045\n",
      "Epoch 43/50\n",
      "512/512 [==============================] - 7s - loss: 0.9361 - acc: 0.6691 - val_loss: 0.8281 - val_acc: 0.7150\n",
      "Epoch 44/50\n",
      "512/512 [==============================] - 7s - loss: 0.9352 - acc: 0.6743 - val_loss: 0.8162 - val_acc: 0.7163\n",
      "Epoch 45/50\n",
      "512/512 [==============================] - 9s - loss: 0.9146 - acc: 0.6804 - val_loss: 0.8137 - val_acc: 0.7162\n",
      "Epoch 46/50\n",
      "512/512 [==============================] - 9s - loss: 0.9324 - acc: 0.6756 - val_loss: 0.8109 - val_acc: 0.7175\n",
      "Epoch 47/50\n",
      "512/512 [==============================] - 7s - loss: 0.9200 - acc: 0.6772 - val_loss: 0.7886 - val_acc: 0.7273\n",
      "Epoch 48/50\n",
      "512/512 [==============================] - 7s - loss: 0.9063 - acc: 0.6819 - val_loss: 0.7786 - val_acc: 0.7301\n",
      "Epoch 49/50\n",
      "512/512 [==============================] - 7s - loss: 0.9052 - acc: 0.6832 - val_loss: 0.8145 - val_acc: 0.7257\n",
      "Epoch 50/50\n",
      "512/512 [==============================] - 6s - loss: 0.9067 - acc: 0.6813 - val_loss: 0.7685 - val_acc: 0.7328\n",
      "Saved trained model at C:\\Users\\nirantk\\Desktop\\keras-practice\\saved_models\\keras_cifar10_trained_model.h5 \n"
     ]
    }
   ],
   "source": [
    "batch_size = 32\n",
    "num_classes = 10\n",
    "epochs = 50\n",
    "data_augmentation = True\n",
    "num_predictions = 20\n",
    "steps_per_epoch = 512\n",
    "save_dir = os.path.join(os.getcwd(), 'saved_models')\n",
    "model_name = 'keras_cifar10_trained_model.h5'\n",
    "\n",
    "# The data, shuffled and split between train and test sets:\n",
    "(x_train, y_train), (x_test, y_test) = cifar10.load_data()\n",
    "print('x_train shape:', x_train.shape)\n",
    "print(x_train.shape[0], 'train samples')\n",
    "print(x_test.shape[0], 'test samples')\n",
    "\n",
    "# Convert class vectors to binary class matrices.\n",
    "y_train = keras.utils.to_categorical(y_train, num_classes)\n",
    "y_test = keras.utils.to_categorical(y_test, num_classes)\n",
    "\n",
    "model = Sequential()\n",
    "model.add(Conv2D(32, (3, 3), padding='same',\n",
    "                 input_shape=x_train.shape[1:]))\n",
    "model.add(Activation('relu'))\n",
    "model.add(Conv2D(32, (3, 3)))\n",
    "model.add(Activation('relu'))\n",
    "model.add(MaxPooling2D(pool_size=(2, 2)))\n",
    "model.add(Dropout(0.25))\n",
    "\n",
    "model.add(Conv2D(64, (3, 3), padding='same'))\n",
    "model.add(Activation('relu'))\n",
    "model.add(Conv2D(64, (3, 3)))\n",
    "model.add(Activation('relu'))\n",
    "model.add(MaxPooling2D(pool_size=(2, 2)))\n",
    "model.add(Dropout(0.25))\n",
    "\n",
    "model.add(Flatten())\n",
    "model.add(Dense(512))\n",
    "model.add(Activation('relu'))\n",
    "model.add(Dropout(0.5))\n",
    "model.add(Dense(num_classes))\n",
    "model.add(Activation('softmax'))\n",
    "\n",
    "history = None\n",
    "# initiate RMSprop optimizer\n",
    "opt = keras.optimizers.rmsprop(lr=0.0001, decay=1e-6)\n",
    "\n",
    "# Let's train the model using RMSprop\n",
    "model.compile(loss='categorical_crossentropy',\n",
    "              optimizer=opt,\n",
    "              metrics=['accuracy'])\n",
    "\n",
    "x_train = x_train.astype('float32')\n",
    "x_test = x_test.astype('float32')\n",
    "x_train /= 255\n",
    "x_test /= 255\n",
    "\n",
    "if not data_augmentation:\n",
    "    print('Not using data augmentation.')\n",
    "    model.fit(x_train, y_train,\n",
    "              batch_size=batch_size,\n",
    "              epochs=epochs,\n",
    "              validation_data=(x_test, y_test),\n",
    "              shuffle=True)\n",
    "else:\n",
    "    print('Using real-time data augmentation.')\n",
    "    # This will do preprocessing and realtime data augmentation:\n",
    "    datagen = ImageDataGenerator(\n",
    "        featurewise_center=False,  # set input mean to 0 over the dataset\n",
    "        samplewise_center=False,  # set each sample mean to 0\n",
    "        featurewise_std_normalization=False,  # divide inputs by std of the dataset\n",
    "        samplewise_std_normalization=False,  # divide each input by its std\n",
    "        zca_whitening=False,  # apply ZCA whitening\n",
    "        rotation_range=0,  # randomly rotate images in the range (degrees, 0 to 180)\n",
    "        width_shift_range=0.1,  # randomly shift images horizontally (fraction of total width)\n",
    "        height_shift_range=0.1,  # randomly shift images vertically (fraction of total height)\n",
    "        horizontal_flip=True,  # randomly flip images\n",
    "        vertical_flip=False)  # randomly flip images\n",
    "\n",
    "    # Compute quantities required for feature-wise normalization\n",
    "    # (std, mean, and principal components if ZCA whitening is applied).\n",
    "    datagen.fit(x_train)\n",
    "\n",
    "    # Fit the model on the batches generated by datagen.flow().\n",
    "    history = model.fit_generator(datagen.flow(x_train, y_train,\n",
    "                                     batch_size=batch_size),\n",
    "                        epochs=epochs,\n",
    "                        steps_per_epoch=steps_per_epoch,\n",
    "                        validation_data=(x_test, y_test),\n",
    "                        workers=4)\n",
    "\n",
    "# Save model and weights\n",
    "if not os.path.isdir(save_dir):\n",
    "    os.makedirs(save_dir)\n",
    "model_path = os.path.join(save_dir, model_name)\n",
    "model.save(model_path)\n",
    "print('Saved trained model at %s ' % model_path)\n"
   ]
  },
  {
   "cell_type": "code",
   "execution_count": 30,
   "metadata": {},
   "outputs": [
    {
     "name": "stdout",
     "output_type": "stream",
     "text": [
      " 9952/10000 [============================>.] - ETA: 0sTest loss: 0.768504348373\n",
      "Test accuracy: 0.7328\n"
     ]
    }
   ],
   "source": [
    "# Score trained model.\n",
    "scores = model.evaluate(x_test, y_test, verbose=1)\n",
    "print('Test loss:', scores[0])\n",
    "print('Test accuracy:', scores[1])"
   ]
  },
  {
   "cell_type": "code",
   "execution_count": 32,
   "metadata": {},
   "outputs": [
    {
     "data": {
      "image/png": "[encoded data removed]",
      "text/plain": [
       "<matplotlib.figure.Figure at 0x1b00eadd9b0>"
      ]
     },
     "metadata": {},
     "output_type": "display_data"
    },
    {
     "data": {
      "image/png": "[encoded data removed]",
      "text/plain": [
       "<matplotlib.figure.Figure at 0x1b0100580b8>"
      ]
     },
     "metadata": {},
     "output_type": "display_data"
    }
   ],
   "source": [
    "acc = history.history['acc']\n",
    "val_acc = history.history['val_acc']\n",
    "loss = history.history['loss']\n",
    "val_loss = history.history['val_loss']\n",
    "\n",
    "epochs = range(1, len(acc) + 1)\n",
    "\n",
    "plt.plot(epochs, acc, 'bo', label='Training acc')\n",
    "plt.plot(epochs, val_acc, 'b', label='Validation acc')\n",
    "plt.title('Training and validation accuracy')\n",
    "plt.legend()\n",
    "\n",
    "plt.figure()\n",
    "\n",
    "plt.plot(epochs, loss, 'bo', label='Training loss')\n",
    "plt.plot(epochs, val_loss, 'b', label='Validation loss')\n",
    "plt.title('Training and validation loss')\n",
    "plt.legend()\n",
    "\n",
    "plt.show()"
   ]
  },
  {
   "cell_type": "code",
   "execution_count": null,
   "metadata": {
    "collapsed": true
   },
   "outputs": [],
   "source": []
  }
 ],
 "metadata": {
  "kernelspec": {
   "display_name": "Python 3",
   "language": "python",
   "name": "python3"
  },
  "language_info": {
   "codemirror_mode": {
    "name": "ipython",
    "version": 3
   },
   "file_extension": ".py",
   "mimetype": "text/x-python",
   "name": "python",
   "nbconvert_exporter": "python",
   "pygments_lexer": "ipython3",
   "version": "3.6.3"
  }
 },
 "nbformat": 4,
 "nbformat_minor": 2
}
