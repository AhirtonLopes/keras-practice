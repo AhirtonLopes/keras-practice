{
 "cells": [
  {
   "cell_type": "markdown",
   "metadata": {
    "collapsed": true
   },
   "source": [
    "## In this notebook:\n",
    "- Using a pre-trained convnet to do feature extraction\n",
    "    - Use ConvBase only for feature extraction, and use a separate machine learning classifier\n",
    "    - Adding ```Dense``` layers to top of a frozen ConvBase, allowing us to leverage data augmentation \n",
    "- Fine-tuning a pre-trained convnet (Skipped, because I am tired now) \n",
    "\n",
    "### In previous notebook: \n",
    "- Training your own small convnets from scratch\n",
    "- Using data augmentation to mitigate overfitting"
   ]
  },
  {
   "cell_type": "code",
   "execution_count": 1,
   "metadata": {},
   "outputs": [
    {
     "data": {
      "text/plain": [
       "datetime.date(2017, 12, 26)"
      ]
     },
     "execution_count": 1,
     "metadata": {},
     "output_type": "execute_result"
    }
   ],
   "source": [
    "from datetime import date\n",
    "date.today()"
   ]
  },
  {
   "cell_type": "code",
   "execution_count": 2,
   "metadata": {},
   "outputs": [
    {
     "name": "stdout",
     "output_type": "stream",
     "text": [
      "NirantK. https://github.com/NirantK/keras-practice\n"
     ]
    }
   ],
   "source": [
    "author = \"NirantK. https://github.com/NirantK/keras-practice\"\n",
    "print(author)"
   ]
  },
  {
   "cell_type": "code",
   "execution_count": 3,
   "metadata": {},
   "outputs": [
    {
     "name": "stderr",
     "output_type": "stream",
     "text": [
      "Using TensorFlow backend.\n"
     ]
    },
    {
     "name": "stdout",
     "output_type": "stream",
     "text": [
      "Keras Version: 2.0.8\n"
     ]
    }
   ],
   "source": [
    "import keras\n",
    "print('Keras Version:', keras.__version__)\n",
    "import os\n",
    "if os.name=='nt':\n",
    "    print('We are on Windows')"
   ]
  },
  {
   "cell_type": "code",
   "execution_count": 4,
   "metadata": {
    "collapsed": true
   },
   "outputs": [],
   "source": [
    "import os, shutil"
   ]
  },
  {
   "cell_type": "code",
   "execution_count": 5,
   "metadata": {},
   "outputs": [
    {
     "name": "stdout",
     "output_type": "stream",
     "text": [
      "/home/nirant/keras-practice\n"
     ]
    }
   ],
   "source": [
    "pwd = os.getcwd()\n",
    "print(pwd)"
   ]
  },
  {
   "cell_type": "markdown",
   "metadata": {
    "collapsed": true
   },
   "source": [
    "Feature extraction\n",
    "---\n",
    "This consists of using the representations learned by a previous network to extract interesting features from new samples. These features are then run through a new classifier, which is trained from scratch.\n",
    "![](https://dpzbhybb2pdcj.cloudfront.net/chollet/v-6/Figures/swapping_fc_classifier.png)"
   ]
  },
  {
   "cell_type": "markdown",
   "metadata": {},
   "source": [
    "**Warning: The line below triggers a download. You need good speed Internet!**"
   ]
  },
  {
   "cell_type": "code",
   "execution_count": 6,
   "metadata": {
    "collapsed": true
   },
   "outputs": [],
   "source": [
    "# !wget http://www.robots.ox.ac.uk/~vgg/software/vgg_face/src/vgg_face_matconvnet.tar.gz"
   ]
  },
  {
   "cell_type": "code",
   "execution_count": 7,
   "metadata": {
    "collapsed": true
   },
   "outputs": [],
   "source": [
    "# if you get CUDA_ERROR_OUT_OF_MEMORY, uncomment below, run and restart the notebook\n",
    "# !sudo nvidia-modprobe -u -c=0"
   ]
  },
  {
   "cell_type": "code",
   "execution_count": 8,
   "metadata": {
    "collapsed": true
   },
   "outputs": [],
   "source": [
    "# !pip install keras_vggface"
   ]
  },
  {
   "cell_type": "markdown",
   "metadata": {},
   "source": [
    "Feature Extraction\n",
    "---\n",
    "Pros: \n",
    "- Fast, and cheap\n",
    "- Works on CPU\n",
    "\n",
    "Cons: \n",
    "- Does not allow us to use data augmentation\n",
    "    - Because we do feature extraction and classification in separate steps"
   ]
  },
  {
   "cell_type": "code",
   "execution_count": 12,
   "metadata": {
    "collapsed": true
   },
   "outputs": [],
   "source": [
    "import os\n",
    "import numpy as np\n",
    "from keras.preprocessing.image import ImageDataGenerator\n",
    "\n",
    "base_dir = os.path.join(pwd, 'data/ladies')\n",
    "train_dir = os.path.join(base_dir, 'train')\n",
    "validation_dir = os.path.join(base_dir, 'validation')\n",
    "test_dir = os.path.join(base_dir, 'test')"
   ]
  },
  {
   "cell_type": "code",
   "execution_count": 13,
   "metadata": {
    "collapsed": true
   },
   "outputs": [],
   "source": [
    "from keras.engine import  Model\n",
    "from keras.layers import Input\n",
    "from keras_vggface.vggface import VGGFace\n",
    "\n",
    "# Convolution Features\n",
    "vgg_features = VGGFace(include_top=False, input_shape=(150, 150, 3), pooling='max')"
   ]
  },
  {
   "cell_type": "code",
   "execution_count": 14,
   "metadata": {},
   "outputs": [
    {
     "name": "stdout",
     "output_type": "stream",
     "text": [
      "_________________________________________________________________\n",
      "Layer (type)                 Output Shape              Param #   \n",
      "=================================================================\n",
      "input_2 (InputLayer)         (None, 150, 150, 3)       0         \n",
      "_________________________________________________________________\n",
      "conv1_1 (Conv2D)             (None, 150, 150, 64)      1792      \n",
      "_________________________________________________________________\n",
      "conv1_2 (Conv2D)             (None, 150, 150, 64)      36928     \n",
      "_________________________________________________________________\n",
      "pool1 (MaxPooling2D)         (None, 75, 75, 64)        0         \n",
      "_________________________________________________________________\n",
      "conv2_1 (Conv2D)             (None, 75, 75, 128)       73856     \n",
      "_________________________________________________________________\n",
      "conv2_2 (Conv2D)             (None, 75, 75, 128)       147584    \n",
      "_________________________________________________________________\n",
      "pool2 (MaxPooling2D)         (None, 37, 37, 128)       0         \n",
      "_________________________________________________________________\n",
      "conv3_1 (Conv2D)             (None, 37, 37, 256)       295168    \n",
      "_________________________________________________________________\n",
      "conv3_2 (Conv2D)             (None, 37, 37, 256)       590080    \n",
      "_________________________________________________________________\n",
      "conv3_3 (Conv2D)             (None, 37, 37, 256)       590080    \n",
      "_________________________________________________________________\n",
      "pool3 (MaxPooling2D)         (None, 18, 18, 256)       0         \n",
      "_________________________________________________________________\n",
      "conv4_1 (Conv2D)             (None, 18, 18, 512)       1180160   \n",
      "_________________________________________________________________\n",
      "conv4_2 (Conv2D)             (None, 18, 18, 512)       2359808   \n",
      "_________________________________________________________________\n",
      "conv4_3 (Conv2D)             (None, 18, 18, 512)       2359808   \n",
      "_________________________________________________________________\n",
      "pool4 (MaxPooling2D)         (None, 9, 9, 512)         0         \n",
      "_________________________________________________________________\n",
      "conv5_1 (Conv2D)             (None, 9, 9, 512)         2359808   \n",
      "_________________________________________________________________\n",
      "conv5_2 (Conv2D)             (None, 9, 9, 512)         2359808   \n",
      "_________________________________________________________________\n",
      "conv5_3 (Conv2D)             (None, 9, 9, 512)         2359808   \n",
      "_________________________________________________________________\n",
      "pool5 (MaxPooling2D)         (None, 4, 4, 512)         0         \n",
      "_________________________________________________________________\n",
      "global_max_pooling2d_1 (Glob (None, 512)               0         \n",
      "=================================================================\n",
      "Total params: 14,714,688\n",
      "Trainable params: 14,714,688\n",
      "Non-trainable params: 0\n",
      "_________________________________________________________________\n"
     ]
    }
   ],
   "source": [
    "vgg_features.summary()"
   ]
  },
  {
   "cell_type": "code",
   "execution_count": 15,
   "metadata": {
    "collapsed": true
   },
   "outputs": [],
   "source": [
    "datagen = ImageDataGenerator(rescale=1./255)\n",
    "batch_size = 1\n",
    "\n",
    "def extract_features(directory, sample_count):\n",
    "    features = np.zeros(shape=(sample_count, 4, 4, 512))\n",
    "    labels = np.zeros(shape=(sample_count))\n",
    "    generator = datagen.flow_from_directory(\n",
    "        directory,\n",
    "        target_size=(150, 150),\n",
    "        batch_size=batch_size,\n",
    "        class_mode='binary')\n",
    "    i = 0\n",
    "    for inputs_batch, labels_batch in generator:\n",
    "        features_batch = vgg_features.predict(inputs_batch)\n",
    "        features[i * batch_size : (i + 1) * batch_size] = features_batch\n",
    "        labels[i * batch_size : (i + 1) * batch_size] = labels_batch\n",
    "        i += 1\n",
    "        if i * batch_size >= sample_count:\n",
    "            # Note that since generators yield data indefinitely in a loop,\n",
    "            # we must `break` after every image has been seen once.\n",
    "            break\n",
    "    return features, labels"
   ]
  },
  {
   "cell_type": "code",
   "execution_count": 16,
   "metadata": {},
   "outputs": [
    {
     "name": "stdout",
     "output_type": "stream",
     "text": [
      "Found 889 images belonging to 2 classes.\n",
      "CPU times: user 5.35 s, sys: 668 ms, total: 6.02 s\n",
      "Wall time: 5.68 s\n"
     ]
    }
   ],
   "source": [
    "%time train_features, train_labels = extract_features(train_dir, 801)"
   ]
  },
  {
   "cell_type": "code",
   "execution_count": 17,
   "metadata": {},
   "outputs": [
    {
     "name": "stdout",
     "output_type": "stream",
     "text": [
      "Found 300 images belonging to 2 classes.\n",
      "CPU times: user 6.09 s, sys: 684 ms, total: 6.78 s\n",
      "Wall time: 6.35 s\n",
      "Found 200 images belonging to 2 classes.\n",
      "CPU times: user 6 s, sys: 756 ms, total: 6.75 s\n",
      "Wall time: 6.35 s\n"
     ]
    }
   ],
   "source": [
    "%time validation_features, validation_labels = extract_features(validation_dir, 1000)\n",
    "%time test_features, test_labels = extract_features(test_dir, 1000)"
   ]
  },
  {
   "cell_type": "code",
   "execution_count": 18,
   "metadata": {},
   "outputs": [
    {
     "name": "stdout",
     "output_type": "stream",
     "text": [
      "_________________________________________________________________\n",
      "Layer (type)                 Output Shape              Param #   \n",
      "=================================================================\n",
      "input_2 (InputLayer)         (None, 150, 150, 3)       0         \n",
      "_________________________________________________________________\n",
      "conv1_1 (Conv2D)             (None, 150, 150, 64)      1792      \n",
      "_________________________________________________________________\n",
      "conv1_2 (Conv2D)             (None, 150, 150, 64)      36928     \n",
      "_________________________________________________________________\n",
      "pool1 (MaxPooling2D)         (None, 75, 75, 64)        0         \n",
      "_________________________________________________________________\n",
      "conv2_1 (Conv2D)             (None, 75, 75, 128)       73856     \n",
      "_________________________________________________________________\n",
      "conv2_2 (Conv2D)             (None, 75, 75, 128)       147584    \n",
      "_________________________________________________________________\n",
      "pool2 (MaxPooling2D)         (None, 37, 37, 128)       0         \n",
      "_________________________________________________________________\n",
      "conv3_1 (Conv2D)             (None, 37, 37, 256)       295168    \n",
      "_________________________________________________________________\n",
      "conv3_2 (Conv2D)             (None, 37, 37, 256)       590080    \n",
      "_________________________________________________________________\n",
      "conv3_3 (Conv2D)             (None, 37, 37, 256)       590080    \n",
      "_________________________________________________________________\n",
      "pool3 (MaxPooling2D)         (None, 18, 18, 256)       0         \n",
      "_________________________________________________________________\n",
      "conv4_1 (Conv2D)             (None, 18, 18, 512)       1180160   \n",
      "_________________________________________________________________\n",
      "conv4_2 (Conv2D)             (None, 18, 18, 512)       2359808   \n",
      "_________________________________________________________________\n",
      "conv4_3 (Conv2D)             (None, 18, 18, 512)       2359808   \n",
      "_________________________________________________________________\n",
      "pool4 (MaxPooling2D)         (None, 9, 9, 512)         0         \n",
      "_________________________________________________________________\n",
      "conv5_1 (Conv2D)             (None, 9, 9, 512)         2359808   \n",
      "_________________________________________________________________\n",
      "conv5_2 (Conv2D)             (None, 9, 9, 512)         2359808   \n",
      "_________________________________________________________________\n",
      "conv5_3 (Conv2D)             (None, 9, 9, 512)         2359808   \n",
      "_________________________________________________________________\n",
      "pool5 (MaxPooling2D)         (None, 4, 4, 512)         0         \n",
      "_________________________________________________________________\n",
      "global_max_pooling2d_1 (Glob (None, 512)               0         \n",
      "=================================================================\n",
      "Total params: 14,714,688\n",
      "Trainable params: 14,714,688\n",
      "Non-trainable params: 0\n",
      "_________________________________________________________________\n"
     ]
    }
   ],
   "source": [
    "vgg_features.summary()"
   ]
  },
  {
   "cell_type": "code",
   "execution_count": 19,
   "metadata": {
    "collapsed": true
   },
   "outputs": [],
   "source": [
    "train_features = np.reshape(train_features, (801, 4 * 4 * 512))\n",
    "validation_features = np.reshape(validation_features, (1000, 4 * 4 * 512))\n",
    "test_features = np.reshape(test_features, (1000, 4 * 4 * 512))"
   ]
  },
  {
   "cell_type": "code",
   "execution_count": 20,
   "metadata": {
    "collapsed": true
   },
   "outputs": [],
   "source": [
    "from keras import models\n",
    "from keras import layers\n",
    "from keras import optimizers\n",
    "\n",
    "model = models.Sequential()\n",
    "model.add(layers.Dense(256, activation='relu', input_dim=4 * 4 * 512))\n",
    "model.add(layers.Dropout(0.5))\n",
    "model.add(layers.Dense(1, activation='sigmoid'))\n",
    "\n",
    "model.compile(optimizer=optimizers.RMSprop(lr=2e-5),\n",
    "              loss='binary_crossentropy',\n",
    "              metrics=['acc'])"
   ]
  },
  {
   "cell_type": "code",
   "execution_count": 25,
   "metadata": {},
   "outputs": [
    {
     "name": "stdout",
     "output_type": "stream",
     "text": [
      "Train on 801 samples, validate on 1000 samples\n",
      "Epoch 1/30\n",
      "801/801 [==============================] - 0s - loss: 0.4793 - acc: 0.7828 - val_loss: 0.4683 - val_acc: 0.7810\n",
      "Epoch 2/30\n",
      "801/801 [==============================] - 0s - loss: 0.4614 - acc: 0.8015 - val_loss: 0.4453 - val_acc: 0.7880\n",
      "Epoch 3/30\n",
      "801/801 [==============================] - 0s - loss: 0.4583 - acc: 0.8115 - val_loss: 0.4485 - val_acc: 0.7780\n",
      "Epoch 4/30\n",
      "801/801 [==============================] - 0s - loss: 0.4631 - acc: 0.7978 - val_loss: 0.4597 - val_acc: 0.7850\n",
      "Epoch 5/30\n",
      "801/801 [==============================] - 0s - loss: 0.4505 - acc: 0.8090 - val_loss: 0.4417 - val_acc: 0.8000\n",
      "Epoch 6/30\n",
      "801/801 [==============================] - 0s - loss: 0.4521 - acc: 0.8290 - val_loss: 0.4634 - val_acc: 0.7820\n",
      "Epoch 7/30\n",
      "801/801 [==============================] - 0s - loss: 0.4508 - acc: 0.8090 - val_loss: 0.4380 - val_acc: 0.8000\n",
      "Epoch 8/30\n",
      "801/801 [==============================] - 0s - loss: 0.4489 - acc: 0.8102 - val_loss: 0.4428 - val_acc: 0.7840\n",
      "Epoch 9/30\n",
      "801/801 [==============================] - 0s - loss: 0.4400 - acc: 0.8077 - val_loss: 0.4405 - val_acc: 0.7810\n",
      "Epoch 10/30\n",
      "801/801 [==============================] - 0s - loss: 0.4387 - acc: 0.8102 - val_loss: 0.4387 - val_acc: 0.7870\n",
      "Epoch 11/30\n",
      "801/801 [==============================] - 0s - loss: 0.4304 - acc: 0.8252 - val_loss: 0.4350 - val_acc: 0.8010\n",
      "Epoch 12/30\n",
      "801/801 [==============================] - 0s - loss: 0.4285 - acc: 0.8190 - val_loss: 0.4375 - val_acc: 0.7840\n",
      "Epoch 13/30\n",
      "801/801 [==============================] - 0s - loss: 0.4275 - acc: 0.8365 - val_loss: 0.4275 - val_acc: 0.7940\n",
      "Epoch 14/30\n",
      "801/801 [==============================] - 0s - loss: 0.4217 - acc: 0.8377 - val_loss: 0.4393 - val_acc: 0.7840\n",
      "Epoch 15/30\n",
      "801/801 [==============================] - 0s - loss: 0.4243 - acc: 0.8365 - val_loss: 0.4323 - val_acc: 0.8010\n",
      "Epoch 16/30\n",
      "801/801 [==============================] - 0s - loss: 0.4156 - acc: 0.8414 - val_loss: 0.4337 - val_acc: 0.7980\n",
      "Epoch 17/30\n",
      "801/801 [==============================] - 0s - loss: 0.4198 - acc: 0.8352 - val_loss: 0.4326 - val_acc: 0.7980\n",
      "Epoch 18/30\n",
      "801/801 [==============================] - 0s - loss: 0.4128 - acc: 0.8352 - val_loss: 0.4258 - val_acc: 0.7970\n",
      "Epoch 19/30\n",
      "801/801 [==============================] - 0s - loss: 0.4137 - acc: 0.8402 - val_loss: 0.4220 - val_acc: 0.7940\n",
      "Epoch 20/30\n",
      "801/801 [==============================] - 0s - loss: 0.4078 - acc: 0.8290 - val_loss: 0.4322 - val_acc: 0.7940\n",
      "Epoch 21/30\n",
      "801/801 [==============================] - 0s - loss: 0.4026 - acc: 0.8427 - val_loss: 0.4226 - val_acc: 0.7840\n",
      "Epoch 22/30\n",
      "801/801 [==============================] - 0s - loss: 0.3991 - acc: 0.8352 - val_loss: 0.4233 - val_acc: 0.7940\n",
      "Epoch 23/30\n",
      "801/801 [==============================] - 0s - loss: 0.3976 - acc: 0.8464 - val_loss: 0.4226 - val_acc: 0.7940\n",
      "Epoch 24/30\n",
      "801/801 [==============================] - 0s - loss: 0.3934 - acc: 0.8427 - val_loss: 0.4298 - val_acc: 0.7950\n",
      "Epoch 25/30\n",
      "801/801 [==============================] - 0s - loss: 0.3908 - acc: 0.8477 - val_loss: 0.4236 - val_acc: 0.7940\n",
      "Epoch 26/30\n",
      "801/801 [==============================] - 0s - loss: 0.3852 - acc: 0.8627 - val_loss: 0.4176 - val_acc: 0.7940\n",
      "Epoch 27/30\n",
      "801/801 [==============================] - 0s - loss: 0.3739 - acc: 0.8514 - val_loss: 0.4192 - val_acc: 0.7900\n",
      "Epoch 28/30\n",
      "801/801 [==============================] - 0s - loss: 0.3811 - acc: 0.8627 - val_loss: 0.4157 - val_acc: 0.7870\n",
      "Epoch 29/30\n",
      "801/801 [==============================] - 0s - loss: 0.3818 - acc: 0.8489 - val_loss: 0.4149 - val_acc: 0.7910\n",
      "Epoch 30/30\n",
      "801/801 [==============================] - 0s - loss: 0.3834 - acc: 0.8527 - val_loss: 0.4425 - val_acc: 0.7970\n",
      "CPU times: user 7.52 s, sys: 624 ms, total: 8.14 s\n",
      "Wall time: 4.96 s\n"
     ]
    }
   ],
   "source": [
    "%time history = model.fit(train_features, train_labels, epochs=30, batch_size=20, \\\n",
    "                          validation_data=(validation_features, validation_labels))"
   ]
  },
  {
   "cell_type": "code",
   "execution_count": 26,
   "metadata": {
    "collapsed": true
   },
   "outputs": [],
   "source": [
    "model.save('emma_faces_feature_extraction.h5')"
   ]
  },
  {
   "cell_type": "code",
   "execution_count": 27,
   "metadata": {},
   "outputs": [
    {
     "data": {
      "image/png": "[encoded data removed]",
      "text/plain": [
       "<matplotlib.figure.Figure at 0x7fe2a0da2fd0>"
      ]
     },
     "metadata": {},
     "output_type": "display_data"
    },
    {
     "data": {
      "image/png": "[encoded data removed]",
      "text/plain": [
       "<matplotlib.figure.Figure at 0x7fe2a04d37b8>"
      ]
     },
     "metadata": {},
     "output_type": "display_data"
    }
   ],
   "source": [
    "import matplotlib.pyplot as plt\n",
    "\n",
    "acc = history.history['acc']\n",
    "val_acc = history.history['val_acc']\n",
    "loss = history.history['loss']\n",
    "val_loss = history.history['val_loss']\n",
    "\n",
    "epochs = range(1, len(acc) + 1)\n",
    "\n",
    "plt.plot(epochs, acc, 'bo', label='Training acc')\n",
    "plt.plot(epochs, val_acc, 'b', label='Validation acc')\n",
    "plt.title('Training and validation accuracy')\n",
    "plt.legend()\n",
    "\n",
    "plt.figure()\n",
    "\n",
    "plt.plot(epochs, loss, 'bo', label='Training loss')\n",
    "plt.plot(epochs, val_loss, 'b', label='Validation loss')\n",
    "plt.title('Training and validation loss')\n",
    "plt.legend()\n",
    "\n",
    "plt.show()"
   ]
  },
  {
   "cell_type": "markdown",
   "metadata": {},
   "source": [
    "Extending the ConvBase Model!\n",
    "---\n",
    "Pros: \n",
    "- Better performance (accuracy)\n",
    "- Better Generalization (less overfitting) \n",
    "    - Because we can use data augmentation\n",
    "    \n",
    "Cons:\n",
    "- Expensive compute\n",
    "\n",
    "**Warning: Do not attempt this without a GPU. Your Python process can/will crash after a few hours**"
   ]
  },
  {
   "cell_type": "code",
   "execution_count": 28,
   "metadata": {
    "collapsed": true
   },
   "outputs": [],
   "source": [
    "from keras import models\n",
    "from keras import layers\n",
    "\n",
    "model = models.Sequential()\n",
    "model.add(vgg_features)\n",
    "# model.add(layers.Flatten())\n",
    "model.add(layers.Dense(256, activation='relu'))\n",
    "model.add(layers.Dense(1, activation='sigmoid'))"
   ]
  },
  {
   "cell_type": "code",
   "execution_count": 29,
   "metadata": {},
   "outputs": [
    {
     "name": "stdout",
     "output_type": "stream",
     "text": [
      "_________________________________________________________________\n",
      "Layer (type)                 Output Shape              Param #   \n",
      "=================================================================\n",
      "vggface_vgg16 (Model)        (None, 512)               14714688  \n",
      "_________________________________________________________________\n",
      "dense_3 (Dense)              (None, 256)               131328    \n",
      "_________________________________________________________________\n",
      "dense_4 (Dense)              (None, 1)                 257       \n",
      "=================================================================\n",
      "Total params: 14,846,273\n",
      "Trainable params: 14,846,273\n",
      "Non-trainable params: 0\n",
      "_________________________________________________________________\n"
     ]
    }
   ],
   "source": [
    "model.summary()"
   ]
  },
  {
   "cell_type": "markdown",
   "metadata": {},
   "source": [
    "### Freezing ConvBase model: VGG16\n",
    "\n",
    "Freezing means we do not update the layer weights in those particular layers. This is important for our present application."
   ]
  },
  {
   "cell_type": "code",
   "execution_count": 30,
   "metadata": {},
   "outputs": [
    {
     "name": "stdout",
     "output_type": "stream",
     "text": [
      "This is the number of trainable weights before freezing the base: 30\n",
      "This is the number of trainable weights after freezing the base: 4\n"
     ]
    }
   ],
   "source": [
    "print('This is the number of trainable weights '\n",
    "         'before freezing the base:', len(model.trainable_weights))\n",
    "vgg_features.trainable = False\n",
    "print('This is the number of trainable weights '\n",
    "          'after freezing the base:', len(model.trainable_weights))"
   ]
  },
  {
   "cell_type": "code",
   "execution_count": 31,
   "metadata": {},
   "outputs": [
    {
     "name": "stdout",
     "output_type": "stream",
     "text": [
      "_________________________________________________________________\n",
      "Layer (type)                 Output Shape              Param #   \n",
      "=================================================================\n",
      "vggface_vgg16 (Model)        (None, 512)               14714688  \n",
      "_________________________________________________________________\n",
      "dense_3 (Dense)              (None, 256)               131328    \n",
      "_________________________________________________________________\n",
      "dense_4 (Dense)              (None, 1)                 257       \n",
      "=================================================================\n",
      "Total params: 14,846,273\n",
      "Trainable params: 131,585\n",
      "Non-trainable params: 14,714,688\n",
      "_________________________________________________________________\n"
     ]
    }
   ],
   "source": [
    "model.summary()\n",
    "# compare the Trainable Params value from the previous model summary"
   ]
  },
  {
   "cell_type": "code",
   "execution_count": 32,
   "metadata": {},
   "outputs": [
    {
     "name": "stdout",
     "output_type": "stream",
     "text": [
      "Found 889 images belonging to 2 classes.\n",
      "Found 300 images belonging to 2 classes.\n",
      "Epoch 1/10\n",
      "100/100 [==============================] - 21s - loss: 0.6496 - acc: 0.6107 - val_loss: 0.5174 - val_acc: 0.7430\n",
      "Epoch 2/10\n",
      "100/100 [==============================] - 19s - loss: 0.5749 - acc: 0.6887 - val_loss: 0.4224 - val_acc: 0.8010\n",
      "Epoch 3/10\n",
      "100/100 [==============================] - 19s - loss: 0.4969 - acc: 0.7516 - val_loss: 0.2879 - val_acc: 0.8910\n",
      "Epoch 4/10\n",
      "100/100 [==============================] - 19s - loss: 0.4515 - acc: 0.7757 - val_loss: 0.3190 - val_acc: 0.8730\n",
      "Epoch 5/10\n",
      "100/100 [==============================] - 19s - loss: 0.4002 - acc: 0.8087 - val_loss: 0.4152 - val_acc: 0.8380\n",
      "Epoch 6/10\n",
      "100/100 [==============================] - 19s - loss: 0.3925 - acc: 0.8146 - val_loss: 0.2525 - val_acc: 0.9190\n",
      "Epoch 7/10\n",
      "100/100 [==============================] - 19s - loss: 0.3502 - acc: 0.8343 - val_loss: 0.3542 - val_acc: 0.8470\n",
      "Epoch 8/10\n",
      "100/100 [==============================] - 19s - loss: 0.3052 - acc: 0.8613 - val_loss: 0.2616 - val_acc: 0.8910\n",
      "Epoch 9/10\n",
      "100/100 [==============================] - 19s - loss: 0.2953 - acc: 0.8742 - val_loss: 0.5387 - val_acc: 0.8290\n",
      "Epoch 10/10\n",
      "100/100 [==============================] - 19s - loss: 0.2841 - acc: 0.8794 - val_loss: 0.2618 - val_acc: 0.8850\n"
     ]
    }
   ],
   "source": [
    "from keras.preprocessing.image import ImageDataGenerator\n",
    "\n",
    "train_datagen = ImageDataGenerator(\n",
    "      rescale=1./255,\n",
    "      rotation_range=40,\n",
    "      width_shift_range=0.2,\n",
    "      height_shift_range=0.2,\n",
    "      shear_range=0.2,\n",
    "      zoom_range=0.2,\n",
    "      horizontal_flip=True,\n",
    "      fill_mode='nearest')\n",
    "\n",
    "# Note that the validation data should not be augmented!\n",
    "test_datagen = ImageDataGenerator(rescale=1./255)\n",
    "\n",
    "train_generator = train_datagen.flow_from_directory(\n",
    "        # This is the target directory\n",
    "        train_dir,\n",
    "        # All images will be resized to 150x150\n",
    "        target_size=(150, 150),\n",
    "        batch_size=20,\n",
    "        # Since we use binary_crossentropy loss, we need binary labels\n",
    "        class_mode='binary')\n",
    "\n",
    "validation_generator = test_datagen.flow_from_directory(\n",
    "        validation_dir,\n",
    "        target_size=(150, 150),\n",
    "        batch_size=20,\n",
    "        class_mode='binary')\n",
    "\n",
    "model.compile(loss='binary_crossentropy',\n",
    "              optimizer=optimizers.RMSprop(lr=2e-5),\n",
    "              metrics=['acc'])\n",
    "\n",
    "history = model.fit_generator(\n",
    "      train_generator,\n",
    "      steps_per_epoch=100,\n",
    "      epochs=10,\n",
    "      validation_data=validation_generator,\n",
    "      validation_steps=50)"
   ]
  },
  {
   "cell_type": "code",
   "execution_count": 33,
   "metadata": {},
   "outputs": [
    {
     "data": {
      "image/png": "[encoded data removed]",
      "text/plain": [
       "<matplotlib.figure.Figure at 0x7fe287788fd0>"
      ]
     },
     "metadata": {},
     "output_type": "display_data"
    },
    {
     "data": {
      "image/png": "[encoded data removed]",
      "text/plain": [
       "<matplotlib.figure.Figure at 0x7fe28773e0b8>"
      ]
     },
     "metadata": {},
     "output_type": "display_data"
    }
   ],
   "source": [
    "acc = history.history['acc']\n",
    "val_acc = history.history['val_acc']\n",
    "loss = history.history['loss']\n",
    "val_loss = history.history['val_loss']\n",
    "\n",
    "epochs = range(1, len(acc) + 1)\n",
    "\n",
    "plt.plot(epochs, acc, 'bo', label='Training acc')\n",
    "plt.plot(epochs, val_acc, 'b', label='Validation acc')\n",
    "plt.title('Training and validation accuracy')\n",
    "plt.legend()\n",
    "\n",
    "plt.figure()\n",
    "\n",
    "plt.plot(epochs, loss, 'bo', label='Training loss')\n",
    "plt.plot(epochs, val_loss, 'b', label='Validation loss')\n",
    "plt.title('Training and validation loss')\n",
    "plt.legend()\n",
    "\n",
    "plt.show()"
   ]
  },
  {
   "cell_type": "code",
   "execution_count": 34,
   "metadata": {},
   "outputs": [
    {
     "name": "stdout",
     "output_type": "stream",
     "text": [
      "Found 200 images belonging to 2 classes.\n",
      "CPU times: user 3.28 s, sys: 316 ms, total: 3.59 s\n",
      "Wall time: 2.61 s\n",
      "test acc: 0.874999992847\n"
     ]
    }
   ],
   "source": [
    "# just for reference, let's calculate the test accuracy\n",
    "test_generator = test_datagen.flow_from_directory(\n",
    "        test_dir,\n",
    "        target_size=(150, 150),\n",
    "        batch_size=20,\n",
    "        class_mode='binary')\n",
    "\n",
    "%time test_loss, test_acc = model.evaluate_generator(test_generator, steps=50)\n",
    "print('test acc:', test_acc)"
   ]
  }
 ],
 "metadata": {
  "kernelspec": {
   "display_name": "Python [default]",
   "language": "python",
   "name": "python3"
  },
  "language_info": {
   "codemirror_mode": {
    "name": "ipython",
    "version": 3
   },
   "file_extension": ".py",
   "mimetype": "text/x-python",
   "name": "python",
   "nbconvert_exporter": "python",
   "pygments_lexer": "ipython3",
   "version": "3.5.4"
  }
 },
 "nbformat": 4,
 "nbformat_minor": 2
}
