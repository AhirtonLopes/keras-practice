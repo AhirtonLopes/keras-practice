{
 "cells": [
  {
   "cell_type": "markdown",
   "metadata": {
    "collapsed": true
   },
   "source": [
    "## In this notebook:\n",
    "- Using a pre-trained convnet to do feature extraction\n",
    "    - Use ConvBase only for feature extraction, and use a separate machine learning classifier\n",
    "    - Adding ```Dense``` layers to top of a frozen ConvBase, allowing us to leverage data augmentation \n",
    "- Fine-tuning a pre-trained convnet (Skipped, because I am tired now) \n",
    "\n",
    "### In previous notebook: \n",
    "- Training your own small convnets from scratch\n",
    "- Using data augmentation to mitigate overfitting"
   ]
  },
  {
   "cell_type": "code",
   "execution_count": 1,
   "metadata": {},
   "outputs": [
    {
     "data": {
      "text/plain": [
       "datetime.date(2017, 12, 26)"
      ]
     },
     "execution_count": 1,
     "metadata": {},
     "output_type": "execute_result"
    }
   ],
   "source": [
    "from datetime import date\n",
    "date.today()"
   ]
  },
  {
   "cell_type": "code",
   "execution_count": 2,
   "metadata": {},
   "outputs": [
    {
     "name": "stdout",
     "output_type": "stream",
     "text": [
      "NirantK. https://github.com/NirantK/keras-practice\n"
     ]
    }
   ],
   "source": [
    "author = \"NirantK. https://github.com/NirantK/keras-practice\"\n",
    "print(author)"
   ]
  },
  {
   "cell_type": "code",
   "execution_count": 3,
   "metadata": {},
   "outputs": [
    {
     "name": "stderr",
     "output_type": "stream",
     "text": [
      "Using TensorFlow backend.\n"
     ]
    },
    {
     "name": "stdout",
     "output_type": "stream",
     "text": [
      "Keras Version: 2.0.8\n"
     ]
    }
   ],
   "source": [
    "import keras\n",
    "print('Keras Version:', keras.__version__)\n",
    "import os\n",
    "if os.name=='nt':\n",
    "    print('We are on Windows')"
   ]
  },
  {
   "cell_type": "code",
   "execution_count": 4,
   "metadata": {
    "collapsed": true
   },
   "outputs": [],
   "source": [
    "import os, shutil"
   ]
  },
  {
   "cell_type": "code",
   "execution_count": 5,
   "metadata": {
    "collapsed": true
   },
   "outputs": [],
   "source": [
    "pwd = os.getcwd()"
   ]
  },
  {
   "cell_type": "markdown",
   "metadata": {
    "collapsed": true
   },
   "source": [
    "Feature extraction\n",
    "---\n",
    "This consists of using the representations learned by a previous network to extract interesting features from new samples. These features are then run through a new classifier, which is trained from scratch.\n",
    "![](https://dpzbhybb2pdcj.cloudfront.net/chollet/v-6/Figures/swapping_fc_classifier.png)"
   ]
  },
  {
   "cell_type": "markdown",
   "metadata": {},
   "source": [
    "Warning: The line below triggers a download. You need good speed Internet!"
   ]
  },
  {
   "cell_type": "code",
   "execution_count": 6,
   "metadata": {
    "collapsed": true
   },
   "outputs": [],
   "source": [
    "from keras.applications import VGG16\n",
    "\n",
    "conv_base = VGG16(weights='imagenet',\n",
    "                  include_top=False,\n",
    "                  input_shape=(150, 150, 3))"
   ]
  },
  {
   "cell_type": "markdown",
   "metadata": {},
   "source": [
    "We passed three arguments to the constructor:\n",
    "\n",
    "- **```weights```**, to specify which weight checkpoint to initialize the model from\n",
    "- **```include_top```**, which refers to including or not the densely-connected classifier on top of the network. By default, this densely-connected classifier would correspond to the 1000 classes from ImageNet. Since we intend to use our own densely-connected classifier (with only two classes, cat and dog), we don’t need to include it.\n",
    "- **```input_shape```**, the shape of the image tensors that we will feed to the network. This argument is purely optional: if we don’t pass it, then the network will be able to process inputs of any size.\n",
    "\n",
    "(from *Deep Learning in Python by F. Chollet*)"
   ]
  },
  {
   "cell_type": "markdown",
   "metadata": {
    "collapsed": true
   },
   "source": [
    "What does the **VGG16** thing look like? "
   ]
  },
  {
   "cell_type": "code",
   "execution_count": 7,
   "metadata": {},
   "outputs": [
    {
     "name": "stdout",
     "output_type": "stream",
     "text": [
      "_________________________________________________________________\n",
      "Layer (type)                 Output Shape              Param #   \n",
      "=================================================================\n",
      "input_1 (InputLayer)         (None, 150, 150, 3)       0         \n",
      "_________________________________________________________________\n",
      "block1_conv1 (Conv2D)        (None, 150, 150, 64)      1792      \n",
      "_________________________________________________________________\n",
      "block1_conv2 (Conv2D)        (None, 150, 150, 64)      36928     \n",
      "_________________________________________________________________\n",
      "block1_pool (MaxPooling2D)   (None, 75, 75, 64)        0         \n",
      "_________________________________________________________________\n",
      "block2_conv1 (Conv2D)        (None, 75, 75, 128)       73856     \n",
      "_________________________________________________________________\n",
      "block2_conv2 (Conv2D)        (None, 75, 75, 128)       147584    \n",
      "_________________________________________________________________\n",
      "block2_pool (MaxPooling2D)   (None, 37, 37, 128)       0         \n",
      "_________________________________________________________________\n",
      "block3_conv1 (Conv2D)        (None, 37, 37, 256)       295168    \n",
      "_________________________________________________________________\n",
      "block3_conv2 (Conv2D)        (None, 37, 37, 256)       590080    \n",
      "_________________________________________________________________\n",
      "block3_conv3 (Conv2D)        (None, 37, 37, 256)       590080    \n",
      "_________________________________________________________________\n",
      "block3_pool (MaxPooling2D)   (None, 18, 18, 256)       0         \n",
      "_________________________________________________________________\n",
      "block4_conv1 (Conv2D)        (None, 18, 18, 512)       1180160   \n",
      "_________________________________________________________________\n",
      "block4_conv2 (Conv2D)        (None, 18, 18, 512)       2359808   \n",
      "_________________________________________________________________\n",
      "block4_conv3 (Conv2D)        (None, 18, 18, 512)       2359808   \n",
      "_________________________________________________________________\n",
      "block4_pool (MaxPooling2D)   (None, 9, 9, 512)         0         \n",
      "_________________________________________________________________\n",
      "block5_conv1 (Conv2D)        (None, 9, 9, 512)         2359808   \n",
      "_________________________________________________________________\n",
      "block5_conv2 (Conv2D)        (None, 9, 9, 512)         2359808   \n",
      "_________________________________________________________________\n",
      "block5_conv3 (Conv2D)        (None, 9, 9, 512)         2359808   \n",
      "_________________________________________________________________\n",
      "block5_pool (MaxPooling2D)   (None, 4, 4, 512)         0         \n",
      "=================================================================\n",
      "Total params: 14,714,688\n",
      "Trainable params: 14,714,688\n",
      "Non-trainable params: 0\n",
      "_________________________________________________________________\n"
     ]
    }
   ],
   "source": [
    "conv_base.summary()"
   ]
  },
  {
   "cell_type": "markdown",
   "metadata": {},
   "source": [
    "Feature Extraction\n",
    "---\n",
    "Pros: \n",
    "- Fast, and cheap\n",
    "- Works on CPU\n",
    "\n",
    "Cons: \n",
    "- Does not allow us to use data augmentation\n",
    "    - Because we do feature extraction and classification in separate steps"
   ]
  },
  {
   "cell_type": "code",
   "execution_count": 8,
   "metadata": {
    "collapsed": true
   },
   "outputs": [],
   "source": [
    "import os\n",
    "import numpy as np\n",
    "from keras.preprocessing.image import ImageDataGenerator\n",
    "\n",
    "base_dir = os.path.join(pwd, 'data/cats_and_dogs_small/')\n",
    "train_dir = os.path.join(base_dir, 'train')\n",
    "validation_dir = os.path.join(base_dir, 'validation')\n",
    "test_dir = os.path.join(base_dir, 'test')\n",
    "\n",
    "datagen = ImageDataGenerator(rescale=1./255)\n",
    "batch_size = 1\n",
    "\n",
    "def extract_features(directory, sample_count):\n",
    "    features = np.zeros(shape=(sample_count, 4, 4, 512))\n",
    "    labels = np.zeros(shape=(sample_count))\n",
    "    generator = datagen.flow_from_directory(\n",
    "        directory,\n",
    "        target_size=(150, 150),\n",
    "        batch_size=batch_size,\n",
    "        class_mode='binary')\n",
    "    i = 0\n",
    "    for inputs_batch, labels_batch in generator:\n",
    "        features_batch = conv_base.predict(inputs_batch)\n",
    "        try:\n",
    "            features[i * batch_size : (i + 1) * batch_size] = features_batch\n",
    "        except ValueError:\n",
    "            print(i)\n",
    "            raise ValueError\n",
    "        labels[i * batch_size : (i + 1) * batch_size] = labels_batch\n",
    "        i += 1\n",
    "        if i * batch_size >= sample_count:\n",
    "            # Note that since generators yield data indefinitely in a loop,\n",
    "            # we must `break` after every image has been seen once.\n",
    "            break\n",
    "    return features, labels"
   ]
  },
  {
   "cell_type": "code",
   "execution_count": 9,
   "metadata": {},
   "outputs": [
    {
     "name": "stdout",
     "output_type": "stream",
     "text": [
      "Found 2000 images belonging to 2 classes.\n",
      "CPU times: user 14.5 s, sys: 1.46 s, total: 15.9 s\n",
      "Wall time: 14.9 s\n"
     ]
    }
   ],
   "source": [
    "%time train_features, train_labels = extract_features(train_dir, 2000)"
   ]
  },
  {
   "cell_type": "code",
   "execution_count": 10,
   "metadata": {},
   "outputs": [
    {
     "name": "stdout",
     "output_type": "stream",
     "text": [
      "Found 1000 images belonging to 2 classes.\n",
      "CPU times: user 6.9 s, sys: 816 ms, total: 7.72 s\n",
      "Wall time: 7.26 s\n",
      "Found 1000 images belonging to 2 classes.\n",
      "CPU times: user 6.96 s, sys: 692 ms, total: 7.65 s\n",
      "Wall time: 7.19 s\n"
     ]
    }
   ],
   "source": [
    "%time validation_features, validation_labels = extract_features(validation_dir, 1000)\n",
    "%time test_features, test_labels = extract_features(test_dir, 1000)"
   ]
  },
  {
   "cell_type": "code",
   "execution_count": 11,
   "metadata": {
    "collapsed": true
   },
   "outputs": [],
   "source": [
    "train_features = np.reshape(train_features, (2000, 4 * 4 * 512))\n",
    "validation_features = np.reshape(validation_features, (1000, 4 * 4 * 512))\n",
    "test_features = np.reshape(test_features, (1000, 4 * 4 * 512))"
   ]
  },
  {
   "cell_type": "markdown",
   "metadata": {},
   "source": [
    "**Model Training:**"
   ]
  },
  {
   "cell_type": "code",
   "execution_count": 12,
   "metadata": {
    "collapsed": true
   },
   "outputs": [],
   "source": [
    "from keras import models\n",
    "from keras import layers\n",
    "from keras import optimizers\n",
    "\n",
    "model = models.Sequential()\n",
    "model.add(layers.Dense(256, activation='relu', input_dim=4 * 4 * 512))\n",
    "model.add(layers.Dropout(0.5))\n",
    "model.add(layers.Dense(1, activation='sigmoid'))\n",
    "\n",
    "model.compile(optimizer=optimizers.RMSprop(lr=2e-5),\n",
    "              loss='binary_crossentropy',\n",
    "              metrics=['acc'])"
   ]
  },
  {
   "cell_type": "code",
   "execution_count": 13,
   "metadata": {},
   "outputs": [
    {
     "name": "stdout",
     "output_type": "stream",
     "text": [
      "Train on 2000 samples, validate on 1000 samples\n",
      "Epoch 1/15\n",
      "2000/2000 [==============================] - 0s - loss: 0.5994 - acc: 0.6720 - val_loss: 0.4453 - val_acc: 0.8340\n",
      "Epoch 2/15\n",
      "2000/2000 [==============================] - 0s - loss: 0.4348 - acc: 0.8055 - val_loss: 0.3698 - val_acc: 0.8590\n",
      "Epoch 3/15\n",
      "2000/2000 [==============================] - 0s - loss: 0.3642 - acc: 0.8525 - val_loss: 0.3216 - val_acc: 0.8800\n",
      "Epoch 4/15\n",
      "2000/2000 [==============================] - 0s - loss: 0.3161 - acc: 0.8730 - val_loss: 0.3152 - val_acc: 0.8660\n",
      "Epoch 5/15\n",
      "2000/2000 [==============================] - 0s - loss: 0.2930 - acc: 0.8810 - val_loss: 0.2828 - val_acc: 0.8950\n",
      "Epoch 6/15\n",
      "2000/2000 [==============================] - 0s - loss: 0.2616 - acc: 0.9010 - val_loss: 0.2719 - val_acc: 0.8910\n",
      "Epoch 7/15\n",
      "2000/2000 [==============================] - 0s - loss: 0.2449 - acc: 0.9115 - val_loss: 0.2609 - val_acc: 0.8940\n",
      "Epoch 8/15\n",
      "2000/2000 [==============================] - 0s - loss: 0.2437 - acc: 0.9040 - val_loss: 0.2609 - val_acc: 0.8950\n",
      "Epoch 9/15\n",
      "2000/2000 [==============================] - 0s - loss: 0.2282 - acc: 0.9095 - val_loss: 0.2561 - val_acc: 0.8970\n",
      "Epoch 10/15\n",
      "2000/2000 [==============================] - 0s - loss: 0.2139 - acc: 0.9185 - val_loss: 0.2500 - val_acc: 0.8960\n",
      "Epoch 11/15\n",
      "2000/2000 [==============================] - 0s - loss: 0.2020 - acc: 0.9235 - val_loss: 0.2474 - val_acc: 0.8970\n",
      "Epoch 12/15\n",
      "2000/2000 [==============================] - 0s - loss: 0.1946 - acc: 0.9295 - val_loss: 0.2409 - val_acc: 0.9080\n",
      "Epoch 13/15\n",
      "2000/2000 [==============================] - 0s - loss: 0.1807 - acc: 0.9315 - val_loss: 0.2367 - val_acc: 0.9060\n",
      "Epoch 14/15\n",
      "2000/2000 [==============================] - 0s - loss: 0.1753 - acc: 0.9395 - val_loss: 0.2350 - val_acc: 0.9050\n",
      "Epoch 15/15\n",
      "2000/2000 [==============================] - 0s - loss: 0.1636 - acc: 0.9380 - val_loss: 0.2432 - val_acc: 0.8970\n",
      "CPU times: user 7.89 s, sys: 700 ms, total: 8.59 s\n",
      "Wall time: 5.27 s\n"
     ]
    }
   ],
   "source": [
    "%time history = model.fit(train_features, train_labels, epochs=15, batch_size=20, validation_data=(validation_features, validation_labels))"
   ]
  },
  {
   "cell_type": "code",
   "execution_count": 14,
   "metadata": {
    "collapsed": true
   },
   "outputs": [],
   "source": [
    "model.save('cats_and_dogs_small_feature_extraction.h5')"
   ]
  },
  {
   "cell_type": "code",
   "execution_count": 15,
   "metadata": {},
   "outputs": [
    {
     "data": {
      "image/png": "[encoded data removed]",
      "text/plain": [
       "<matplotlib.figure.Figure at 0x7f9e26bb9908>"
      ]
     },
     "metadata": {},
     "output_type": "display_data"
    },
    {
     "data": {
      "image/png": "[encoded data removed]",
      "text/plain": [
       "<matplotlib.figure.Figure at 0x7f9dfdc9ae48>"
      ]
     },
     "metadata": {},
     "output_type": "display_data"
    }
   ],
   "source": [
    "import matplotlib.pyplot as plt\n",
    "\n",
    "acc = history.history['acc']\n",
    "val_acc = history.history['val_acc']\n",
    "loss = history.history['loss']\n",
    "val_loss = history.history['val_loss']\n",
    "\n",
    "epochs = range(1, len(acc) + 1)\n",
    "\n",
    "plt.plot(epochs, acc, 'bo', label='Training acc')\n",
    "plt.plot(epochs, val_acc, 'b', label='Validation acc')\n",
    "plt.title('Training and validation accuracy')\n",
    "plt.legend()\n",
    "\n",
    "plt.figure()\n",
    "\n",
    "plt.plot(epochs, loss, 'bo', label='Training loss')\n",
    "plt.plot(epochs, val_loss, 'b', label='Validation loss')\n",
    "plt.title('Training and validation loss')\n",
    "plt.legend()\n",
    "\n",
    "plt.show()"
   ]
  },
  {
   "cell_type": "markdown",
   "metadata": {},
   "source": [
    "This is Overfitting!\n",
    "---\n",
    "We can see that the training and validation accuracy curve diverge from each other rather quickly. This alone is might not be a sure shot sign of overfitting. We also observe that the training loss drops smoothly while validation loss actually increases. These two graphs in conjunction with each other indicate overfittig. \n",
    "\n",
    "**Why did this overfit despite dropout?**\n",
    "\n",
    "We did *NOT* do data augmentation"
   ]
  },
  {
   "cell_type": "markdown",
   "metadata": {},
   "source": [
    "Extending the ConvBase Model!\n",
    "---\n",
    "Pros: \n",
    "- Better performance (accuracy)\n",
    "- Better Generalization (less overfitting) \n",
    "    - Because we can use data augmentation\n",
    "    \n",
    "Cons:\n",
    "- Expensive compute\n",
    "\n",
    "**Warning: Do not attempt this without a GPU. Your Python process can/will crash after a few hours**"
   ]
  },
  {
   "cell_type": "code",
   "execution_count": 18,
   "metadata": {
    "collapsed": true
   },
   "outputs": [],
   "source": [
    "from keras import models\n",
    "from keras import layers\n",
    "\n",
    "model = models.Sequential()\n",
    "model.add(conv_base)\n",
    "model.add(layers.Flatten())\n",
    "model.add(layers.Dense(256, activation='relu'))\n",
    "model.add(layers.Dense(1, activation='sigmoid'))"
   ]
  },
  {
   "cell_type": "code",
   "execution_count": 19,
   "metadata": {},
   "outputs": [
    {
     "name": "stdout",
     "output_type": "stream",
     "text": [
      "_________________________________________________________________\n",
      "Layer (type)                 Output Shape              Param #   \n",
      "=================================================================\n",
      "vgg16 (Model)                (None, 4, 4, 512)         14714688  \n",
      "_________________________________________________________________\n",
      "flatten_1 (Flatten)          (None, 8192)              0         \n",
      "_________________________________________________________________\n",
      "dense_3 (Dense)              (None, 256)               2097408   \n",
      "_________________________________________________________________\n",
      "dense_4 (Dense)              (None, 1)                 257       \n",
      "=================================================================\n",
      "Total params: 16,812,353\n",
      "Trainable params: 16,812,353\n",
      "Non-trainable params: 0\n",
      "_________________________________________________________________\n"
     ]
    }
   ],
   "source": [
    "model.summary()"
   ]
  },
  {
   "cell_type": "markdown",
   "metadata": {},
   "source": [
    "### Freezing ConvBase model: VGG16\n",
    "\n",
    "Freezing means we do not update the layer weights in those particular layers. This is important for our present application."
   ]
  },
  {
   "cell_type": "code",
   "execution_count": 20,
   "metadata": {},
   "outputs": [
    {
     "name": "stdout",
     "output_type": "stream",
     "text": [
      "This is the number of trainable weights before freezing the conv base: 30\n",
      "This is the number of trainable weights after freezing the conv base: 4\n"
     ]
    }
   ],
   "source": [
    "print('This is the number of trainable weights '\n",
    "         'before freezing the conv base:', len(model.trainable_weights))\n",
    "conv_base.trainable = False\n",
    "print('This is the number of trainable weights '\n",
    "          'after freezing the conv base:', len(model.trainable_weights))"
   ]
  },
  {
   "cell_type": "code",
   "execution_count": 21,
   "metadata": {},
   "outputs": [
    {
     "name": "stdout",
     "output_type": "stream",
     "text": [
      "_________________________________________________________________\n",
      "Layer (type)                 Output Shape              Param #   \n",
      "=================================================================\n",
      "vgg16 (Model)                (None, 4, 4, 512)         14714688  \n",
      "_________________________________________________________________\n",
      "flatten_1 (Flatten)          (None, 8192)              0         \n",
      "_________________________________________________________________\n",
      "dense_3 (Dense)              (None, 256)               2097408   \n",
      "_________________________________________________________________\n",
      "dense_4 (Dense)              (None, 1)                 257       \n",
      "=================================================================\n",
      "Total params: 16,812,353\n",
      "Trainable params: 2,097,665\n",
      "Non-trainable params: 14,714,688\n",
      "_________________________________________________________________\n"
     ]
    }
   ],
   "source": [
    "model.summary()\n",
    "# compare the Trainable Params value from the previous model summary"
   ]
  },
  {
   "cell_type": "code",
   "execution_count": 22,
   "metadata": {},
   "outputs": [
    {
     "name": "stdout",
     "output_type": "stream",
     "text": [
      "Found 2000 images belonging to 2 classes.\n",
      "Found 1000 images belonging to 2 classes.\n",
      "Epoch 1/30\n",
      "100/100 [==============================] - 21s - loss: 0.4502 - acc: 0.7765 - val_loss: 0.3897 - val_acc: 0.8300\n",
      "Epoch 2/30\n",
      "100/100 [==============================] - 19s - loss: 0.2768 - acc: 0.8850 - val_loss: 0.2452 - val_acc: 0.8800\n",
      "Epoch 3/30\n",
      "100/100 [==============================] - 19s - loss: 0.2206 - acc: 0.9125 - val_loss: 0.1886 - val_acc: 0.9290\n",
      "Epoch 4/30\n",
      "100/100 [==============================] - 19s - loss: 0.1859 - acc: 0.9220 - val_loss: 0.0935 - val_acc: 0.9620\n",
      "Epoch 5/30\n",
      "100/100 [==============================] - 19s - loss: 0.1645 - acc: 0.9345 - val_loss: 0.0932 - val_acc: 0.9690\n",
      "Epoch 6/30\n",
      "100/100 [==============================] - 19s - loss: 0.1491 - acc: 0.9360 - val_loss: 0.1048 - val_acc: 0.9640\n",
      "Epoch 7/30\n",
      "100/100 [==============================] - 19s - loss: 0.1274 - acc: 0.9510 - val_loss: 0.0913 - val_acc: 0.9600\n",
      "Epoch 8/30\n",
      "100/100 [==============================] - 19s - loss: 0.1197 - acc: 0.9600 - val_loss: 0.2025 - val_acc: 0.9240\n",
      "Epoch 9/30\n",
      "100/100 [==============================] - 19s - loss: 0.1120 - acc: 0.9575 - val_loss: 0.0896 - val_acc: 0.9600\n",
      "Epoch 10/30\n",
      "100/100 [==============================] - 19s - loss: 0.0969 - acc: 0.9645 - val_loss: 0.0948 - val_acc: 0.9590\n",
      "Epoch 11/30\n",
      "100/100 [==============================] - 19s - loss: 0.0805 - acc: 0.9705 - val_loss: 0.1518 - val_acc: 0.9630\n",
      "Epoch 12/30\n",
      "100/100 [==============================] - 19s - loss: 0.0906 - acc: 0.9665 - val_loss: 0.0750 - val_acc: 0.9780\n",
      "Epoch 13/30\n",
      "100/100 [==============================] - 19s - loss: 0.0781 - acc: 0.9740 - val_loss: 0.0910 - val_acc: 0.9740\n",
      "Epoch 14/30\n",
      "100/100 [==============================] - 19s - loss: 0.0626 - acc: 0.9730 - val_loss: 0.0805 - val_acc: 0.9750\n",
      "Epoch 15/30\n",
      "100/100 [==============================] - 19s - loss: 0.0741 - acc: 0.9700 - val_loss: 0.1032 - val_acc: 0.9670\n",
      "Epoch 16/30\n",
      "100/100 [==============================] - 19s - loss: 0.0604 - acc: 0.9745 - val_loss: 0.0912 - val_acc: 0.9730\n",
      "Epoch 17/30\n",
      "100/100 [==============================] - 19s - loss: 0.0565 - acc: 0.9800 - val_loss: 0.1325 - val_acc: 0.9600\n",
      "Epoch 18/30\n",
      "100/100 [==============================] - 19s - loss: 0.0779 - acc: 0.9730 - val_loss: 0.1325 - val_acc: 0.9470\n",
      "Epoch 19/30\n",
      "100/100 [==============================] - 19s - loss: 0.0506 - acc: 0.9830 - val_loss: 0.2574 - val_acc: 0.9420\n",
      "Epoch 20/30\n",
      "100/100 [==============================] - 19s - loss: 0.0556 - acc: 0.9765 - val_loss: 0.1630 - val_acc: 0.9590\n",
      "Epoch 21/30\n",
      "100/100 [==============================] - 19s - loss: 0.0495 - acc: 0.9850 - val_loss: 0.0704 - val_acc: 0.9720\n",
      "Epoch 22/30\n",
      "100/100 [==============================] - 19s - loss: 0.0425 - acc: 0.9865 - val_loss: 0.0982 - val_acc: 0.9700\n",
      "Epoch 23/30\n",
      "100/100 [==============================] - 19s - loss: 0.0599 - acc: 0.9795 - val_loss: 0.1049 - val_acc: 0.9640\n",
      "Epoch 24/30\n",
      "100/100 [==============================] - 19s - loss: 0.0484 - acc: 0.9845 - val_loss: 0.0848 - val_acc: 0.9750\n",
      "Epoch 25/30\n",
      "100/100 [==============================] - 19s - loss: 0.0443 - acc: 0.9840 - val_loss: 0.1009 - val_acc: 0.9740\n",
      "Epoch 26/30\n",
      "100/100 [==============================] - 19s - loss: 0.0521 - acc: 0.9865 - val_loss: 0.1626 - val_acc: 0.9570\n",
      "Epoch 27/30\n",
      "100/100 [==============================] - 19s - loss: 0.0503 - acc: 0.9815 - val_loss: 0.1116 - val_acc: 0.9570\n",
      "Epoch 28/30\n",
      "100/100 [==============================] - 19s - loss: 0.0444 - acc: 0.9835 - val_loss: 0.1664 - val_acc: 0.9530\n",
      "Epoch 29/30\n",
      "100/100 [==============================] - 19s - loss: 0.0513 - acc: 0.9810 - val_loss: 0.0908 - val_acc: 0.9770\n",
      "Epoch 30/30\n",
      "100/100 [==============================] - 19s - loss: 0.0370 - acc: 0.9890 - val_loss: 0.1158 - val_acc: 0.9720\n"
     ]
    }
   ],
   "source": [
    "from keras.preprocessing.image import ImageDataGenerator\n",
    "# Note that the validation data should not be augmented!\n",
    "test_datagen = ImageDataGenerator(rescale=1./255)\n",
    "\n",
    "train_datagen = ImageDataGenerator(\n",
    "      rescale=1./255,\n",
    "      rotation_range=40,\n",
    "      width_shift_range=0.2,\n",
    "      height_shift_range=0.2,\n",
    "      shear_range=0.2,\n",
    "      zoom_range=0.2,\n",
    "      horizontal_flip=True,\n",
    "      fill_mode='nearest')\n",
    "\n",
    "\n",
    "\n",
    "train_generator = train_datagen.flow_from_directory(\n",
    "        # This is the target directory\n",
    "        train_dir,\n",
    "        # All images will be resized to 150x150\n",
    "        target_size=(150, 150),\n",
    "        batch_size=20,\n",
    "        # Since we use binary_crossentropy loss, we need binary labels\n",
    "        class_mode='binary')\n",
    "\n",
    "validation_generator = test_datagen.flow_from_directory(\n",
    "        validation_dir,\n",
    "        target_size=(150, 150),\n",
    "        batch_size=20,\n",
    "        class_mode='binary')\n",
    "\n",
    "model.compile(loss='binary_crossentropy',\n",
    "              optimizer=optimizers.RMSprop(lr=2e-5),\n",
    "              metrics=['acc'])\n",
    "\n",
    "history = model.fit_generator(\n",
    "      train_generator,\n",
    "      steps_per_epoch=100,\n",
    "      epochs=30,\n",
    "      validation_data=validation_generator,\n",
    "      validation_steps=50)"
   ]
  },
  {
   "cell_type": "code",
   "execution_count": 23,
   "metadata": {},
   "outputs": [
    {
     "data": {
      "image/png": "[encoded data removed]",
      "text/plain": [
       "<matplotlib.figure.Figure at 0x7f9dfc4c4cf8>"
      ]
     },
     "metadata": {},
     "output_type": "display_data"
    },
    {
     "data": {
      "image/png": "[encoded data removed]",
      "text/plain": [
       "<matplotlib.figure.Figure at 0x7f9dfc47cda0>"
      ]
     },
     "metadata": {},
     "output_type": "display_data"
    }
   ],
   "source": [
    "acc = history.history['acc']\n",
    "val_acc = history.history['val_acc']\n",
    "loss = history.history['loss']\n",
    "val_loss = history.history['val_loss']\n",
    "\n",
    "epochs = range(1, len(acc) + 1)\n",
    "\n",
    "plt.plot(epochs, acc, 'bo', label='Training acc')\n",
    "plt.plot(epochs, val_acc, 'b', label='Validation acc')\n",
    "plt.title('Training and validation accuracy')\n",
    "plt.legend()\n",
    "\n",
    "plt.figure()\n",
    "\n",
    "plt.plot(epochs, loss, 'bo', label='Training loss')\n",
    "plt.plot(epochs, val_loss, 'b', label='Validation loss')\n",
    "plt.title('Training and validation loss')\n",
    "plt.legend()\n",
    "\n",
    "plt.show()"
   ]
  },
  {
   "cell_type": "code",
   "execution_count": 24,
   "metadata": {},
   "outputs": [
    {
     "name": "stdout",
     "output_type": "stream",
     "text": [
      "Found 1000 images belonging to 2 classes.\n",
      "CPU times: user 2.2 s, sys: 48 ms, total: 2.24 s\n",
      "Wall time: 2.63 s\n",
      "test acc: 0.960999994278\n"
     ]
    }
   ],
   "source": [
    "# just for reference, let's calculate the test accuracy\n",
    "test_generator = test_datagen.flow_from_directory(\n",
    "        test_dir,\n",
    "        target_size=(150, 150),\n",
    "        batch_size=20,\n",
    "        class_mode='binary')\n",
    "\n",
    "%time test_loss, test_acc = model.evaluate_generator(test_generator, steps=50)\n",
    "print('test acc:', test_acc)"
   ]
  }
 ],
 "metadata": {
  "kernelspec": {
   "display_name": "Python [default]",
   "language": "python",
   "name": "python3"
  },
  "language_info": {
   "codemirror_mode": {
    "name": "ipython",
    "version": 3
   },
   "file_extension": ".py",
   "mimetype": "text/x-python",
   "name": "python",
   "nbconvert_exporter": "python",
   "pygments_lexer": "ipython3",
   "version": "3.5.4"
  }
 },
 "nbformat": 4,
 "nbformat_minor": 2
}
